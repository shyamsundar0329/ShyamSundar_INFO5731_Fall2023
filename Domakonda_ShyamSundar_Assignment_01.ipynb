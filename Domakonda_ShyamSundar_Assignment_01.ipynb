{
  "cells": [
    {
      "cell_type": "markdown",
      "metadata": {
        "id": "view-in-github",
        "colab_type": "text"
      },
      "source": [
        "<a href=\"https://colab.research.google.com/github/shyamsundar0329/ShyamSundar_INFO5731_Fall2023/blob/main/Domakonda_ShyamSundar_Assignment_01.ipynb\" target=\"_parent\"><img src=\"https://colab.research.google.com/assets/colab-badge.svg\" alt=\"Open In Colab\"/></a>"
      ]
    },
    {
      "cell_type": "code",
      "source": [
        "from google.colab import drive\n",
        "drive.mount('/content/drive')"
      ],
      "metadata": {
        "colab": {
          "base_uri": "https://localhost:8080/"
        },
        "id": "yuCwQvcFdMhi",
        "outputId": "3f8bdc96-90b5-4c5f-8dc6-2a3229cc3b2c"
      },
      "execution_count": 1,
      "outputs": [
        {
          "output_type": "stream",
          "name": "stdout",
          "text": [
            "Mounted at /content/drive\n"
          ]
        }
      ]
    },
    {
      "cell_type": "markdown",
      "metadata": {
        "id": "Ryk8D1Q4Wsrp"
      },
      "source": [
        "# **INFO5731 Assignment One**"
      ]
    },
    {
      "cell_type": "markdown",
      "metadata": {
        "id": "IgeavS1C8lW8"
      },
      "source": [
        "Domakonda_ShyamSundar_Assignment_01"
      ]
    },
    {
      "cell_type": "markdown",
      "metadata": {
        "id": "90_NR8c5XGWc"
      },
      "source": [
        "# Question 1\n",
        "\n",
        "(20 points). Write a Python program to generate 12 random numbers between 1 and 100. Sort the list of numbers in ascending order and print it out. Sort the list of numbers in descending order and print it out. Calculate the average for the group and print it out."
      ]
    },
    {
      "cell_type": "code",
      "source": [
        "# Your code here\n",
        "import random\n",
        "\n",
        "# Generating 12 random numbers between 1 and 100\n",
        "rand_numbers = [random.randint(1, 100) for x in range(12)]\n",
        "print(\"Random Numbers:\", rand_numbers)\n",
        "\n",
        "# Sorting the list in ascending order\n",
        "ascending_order = sorted(rand_numbers)\n",
        "print(\"Ascending Sorted:\", ascending_order)\n",
        "\n",
        "\n",
        "# Sorting the list in descending order\n",
        "descending_order = sorted(rand_numbers, reverse=True)\n",
        "print(\"Descending Sorted:\", descending_order)\n",
        "\n",
        "#calculating total\n",
        "total = sum(rand_numbers)\n",
        "print(\"Total\",total)\n",
        "\n",
        "# Calculating the average\n",
        "avg = total / len(rand_numbers)\n",
        "\n",
        "# Printing the output\n",
        "print(\"Average:\", avg)\n",
        "\n"
      ],
      "metadata": {
        "colab": {
          "base_uri": "https://localhost:8080/"
        },
        "id": "JRmzbwPPf5_y",
        "outputId": "4425e1fb-b5bb-4301-f580-07b6cc9661be"
      },
      "execution_count": 2,
      "outputs": [
        {
          "output_type": "stream",
          "name": "stdout",
          "text": [
            "Random Numbers: [75, 57, 25, 50, 79, 26, 47, 86, 78, 56, 38, 48]\n",
            "Ascending Sorted: [25, 26, 38, 47, 48, 50, 56, 57, 75, 78, 79, 86]\n",
            "Descending Sorted: [86, 79, 78, 75, 57, 56, 50, 48, 47, 38, 26, 25]\n",
            "Total 665\n",
            "Average: 55.416666666666664\n"
          ]
        }
      ]
    },
    {
      "cell_type": "markdown",
      "metadata": {
        "id": "1F_PZdH9Sh49"
      },
      "source": [
        "# Question 2\n",
        "(25 points).\n",
        "\n",
        "Write a program that will do the following string formatting tasks:\n",
        "\n",
        "(1) Ask the user to enter two sentences.\n",
        "\n",
        "(2) Make each sentence into a list. Each element in the list should correspond to a word in the sentence. For example, if the sentence is \"Alas! Am I alive? This is my first python program\", the program should print out ['Alas, '!', 'Am', 'I', 'alive, '?', 'This', 'is', 'my', 'first', 'python', 'program'].\n",
        "\n",
        "(3) Compare the two sentences. Print out a list of words that occur in both sentences.\n",
        "\n",
        "(4) Remove any punctuation from the sentence and print it back out. It should remove at least the following characters, but it can remove more: period(“.”), comma (“,”), semicolon (“;”), and colon (“:”)\n",
        "\n",
        "(5) Count the number of vowels in the sentences. Print out each vowel and the number of times it appears in the sentences, such as: a:2, e:1, i:0, etc"
      ]
    },
    {
      "cell_type": "code",
      "source": [
        "import string\n",
        "\n",
        "# Taking input from user using input()\n",
        "sentence1 = input(\"Enter the first sentence: \")\n",
        "sentence2 = input(\"Enter the second sentence: \")\n",
        "\n",
        "# Making each sentence into a list of words with punctuation separated\n",
        "def sentence_to_list(sentence):\n",
        "    words = []\n",
        "    word = ''\n",
        "    for char in sentence:\n",
        "        if char.isalnum() or char in string.punctuation:\n",
        "            word += char\n",
        "        else:\n",
        "            if word:\n",
        "                words.append(word.lower())  # Converting to lowercase\n",
        "            word = ''\n",
        "    if word:\n",
        "        words.append(word.lower())  # Converting to lowercase\n",
        "    return words\n",
        "\n",
        "list1 = sentence_to_list(sentence1)\n",
        "list2 = sentence_to_list(sentence2)\n",
        "\n",
        "# Comparing the two sentences and finding common words\n",
        "common_words = set(list1) & set(list2)\n",
        "\n",
        "# Removing punctuation from the sentences\n",
        "def remove_punctuation(sentence):\n",
        "    for char in string.punctuation:\n",
        "        sentence = sentence.replace(char, '')\n",
        "    return sentence\n",
        "\n",
        "sentence1_no_punct = remove_punctuation(sentence1)\n",
        "sentence2_no_punct = remove_punctuation(sentence2)\n",
        "\n",
        "# Counting the number of vowels in the sentences after converting to lowercase\n",
        "vowels = \"aeiou\"\n",
        "sentence1_no_punct = sentence1_no_punct.lower()\n",
        "sentence2_no_punct = sentence2_no_punct.lower()\n",
        "\n",
        "vowel_counts1 = {vowel: sentence1_no_punct.count(vowel) for vowel in vowels}\n",
        "vowel_counts2 = {vowel: sentence2_no_punct.count(vowel) for vowel in vowels}\n",
        "\n",
        "# Print the output\n",
        "print(\"List 1:\", list1)\n",
        "print(\"List 2:\", list2)\n",
        "print(\"Common Words:\", list(common_words))\n",
        "print(\"Sentence 1 without punctuation:\", sentence1_no_punct)\n",
        "print(\"Sentence 2 without punctuation:\", sentence2_no_punct)\n",
        "print(\"Vowel Counts in Sentence 1:\", vowel_counts1)\n",
        "print(\"Vowel Counts in Sentence 2:\", vowel_counts2)\n",
        "\n",
        "# Counting the number of vowels in common words between sentences\n",
        "common_words_vowel_counts = {}\n",
        "for word in common_words:\n",
        "    vowel_counts = {vowel: word.count(vowel) for vowel in vowels}\n",
        "    common_words_vowel_counts[word] = vowel_counts\n",
        "\n",
        "# Print the vowel counts for common words\n",
        "print(\"Vowel Counts in Common Words:\")\n",
        "for word, vowel_counts in common_words_vowel_counts.items():\n",
        "    print(f\"{word}: {vowel_counts}\")\n",
        "# Alas! Am I alive?\n",
        "# Alas! Am I alive? This is my first python program."
      ],
      "metadata": {
        "colab": {
          "base_uri": "https://localhost:8080/"
        },
        "id": "S24krURDflqf",
        "outputId": "7d0a45d1-3581-49b9-912a-8d266e1516b1"
      },
      "execution_count": 8,
      "outputs": [
        {
          "output_type": "stream",
          "name": "stdout",
          "text": [
            "Enter the first sentence: Alas! Am I alive?\n",
            "Enter the second sentence: Alas! Am I alive? This is my first python program.\n",
            "List 1: ['alas!', 'am', 'i', 'alive?']\n",
            "List 2: ['alas!', 'am', 'i', 'alive?', 'this', 'is', 'my', 'first', 'python', 'program.']\n",
            "Common Words: ['i', 'alas!', 'alive?', 'am']\n",
            "Sentence 1 without punctuation: alas am i alive\n",
            "Sentence 2 without punctuation: alas am i alive this is my first python program\n",
            "Vowel Counts in Sentence 1: {'a': 4, 'e': 1, 'i': 2, 'o': 0, 'u': 0}\n",
            "Vowel Counts in Sentence 2: {'a': 5, 'e': 1, 'i': 5, 'o': 2, 'u': 0}\n",
            "Vowel Counts in Common Words:\n",
            "i: {'a': 0, 'e': 0, 'i': 1, 'o': 0, 'u': 0}\n",
            "alas!: {'a': 2, 'e': 0, 'i': 0, 'o': 0, 'u': 0}\n",
            "alive?: {'a': 1, 'e': 1, 'i': 1, 'o': 0, 'u': 0}\n",
            "am: {'a': 1, 'e': 0, 'i': 0, 'o': 0, 'u': 0}\n"
          ]
        }
      ]
    },
    {
      "cell_type": "code",
      "source": [
        "import string\n",
        "\n",
        "# Taking input from user using input()\n",
        "sentence1 = input(\"Enter the first sentence: \")\n",
        "sentence2 = input(\"Enter the second sentence: \")\n",
        "\n",
        "# Making each sentence into a list of words with punctuation separated\n",
        "def sentence_to_list(sentence):\n",
        "    words = []\n",
        "    word = ''\n",
        "    for char in sentence:\n",
        "        if char.isalnum() or char in string.punctuation:\n",
        "            word += char\n",
        "        else:\n",
        "            if word:\n",
        "                words.append(word.lower())  # Converting to lowercase\n",
        "            word = ''\n",
        "    if word:\n",
        "        words.append(word.lower())  # Converting to lowercase\n",
        "    return words\n",
        "\n",
        "list1 = sentence_to_list(sentence1)\n",
        "list2 = sentence_to_list(sentence2)\n",
        "\n",
        "# Comparing the two sentences and finding common words\n",
        "common_words = set(list1) & set(list2)\n",
        "\n",
        "# Removing punctuation from the sentences\n",
        "def remove_punctuation(sentence):\n",
        "    for char in string.punctuation:\n",
        "        sentence = sentence.replace(char, '')\n",
        "    return sentence\n",
        "\n",
        "sentence1_no_punct = remove_punctuation(sentence1)\n",
        "sentence2_no_punct = remove_punctuation(sentence2)\n",
        "\n",
        "# Counting the number of vowels in the sentences after converting to lowercase\n",
        "vowels = \"aeiou\"\n",
        "sentence1_no_punct = sentence1_no_punct.lower()\n",
        "sentence2_no_punct = sentence2_no_punct.lower()\n",
        "\n",
        "vowel_counts1 = {vowel: sentence1_no_punct.count(vowel) for vowel in vowels}\n",
        "vowel_counts2 = {vowel: sentence2_no_punct.count(vowel) for vowel in vowels}\n",
        "\n",
        "# Print the output\n",
        "print(\"List 1:\", list1)\n",
        "print(\"List 2:\", list2)\n",
        "print(\"Common Words:\", list(common_words))\n",
        "print(\"Sentence 1 without punctuation:\", sentence1_no_punct)\n",
        "print(\"Sentence 2 without punctuation:\", sentence2_no_punct)\n",
        "print(\"Vowel Counts in Sentence 1:\", vowel_counts1)\n",
        "print(\"Vowel Counts in Sentence 2:\", vowel_counts2)\n",
        "\n",
        "# Counting the number of vowels in common words between sentences\n",
        "common_words_vowel_counts = {}\n",
        "for word in common_words:\n",
        "    vowel_counts = {vowel: word.count(vowel) for vowel in vowels}\n",
        "    common_words_vowel_counts[word] = vowel_counts\n",
        "\n",
        "# Print the vowel counts for common words\n",
        "print(\"Vowel Counts in Common Words:\")\n",
        "for word, vowel_counts in common_words_vowel_counts.items():\n",
        "    print(f\"{word}: {vowel_counts}\")\n",
        "# Shyam be Focused?\n",
        "# Shyam be Focused? Believe in yourself."
      ],
      "metadata": {
        "colab": {
          "base_uri": "https://localhost:8080/"
        },
        "id": "eNHklHsJgSK5",
        "outputId": "a26dc124-6d5c-46d5-c460-2960e3b120d1"
      },
      "execution_count": 10,
      "outputs": [
        {
          "output_type": "stream",
          "name": "stdout",
          "text": [
            "Enter the first sentence: Shyam be Focused?\n",
            "Enter the second sentence: Shyam be Focused? Believe in yourself.\n",
            "List 1: ['shyam', 'be', 'focused?']\n",
            "List 2: ['shyam', 'be', 'focused?', 'believe', 'in', 'yourself.']\n",
            "Common Words: ['shyam', 'focused?', 'be']\n",
            "Sentence 1 without punctuation: shyam be focused\n",
            "Sentence 2 without punctuation: shyam be focused believe in yourself\n",
            "Vowel Counts in Sentence 1: {'a': 1, 'e': 2, 'i': 0, 'o': 1, 'u': 1}\n",
            "Vowel Counts in Sentence 2: {'a': 1, 'e': 6, 'i': 2, 'o': 2, 'u': 2}\n",
            "Vowel Counts in Common Words:\n",
            "shyam: {'a': 1, 'e': 0, 'i': 0, 'o': 0, 'u': 0}\n",
            "focused?: {'a': 0, 'e': 1, 'i': 0, 'o': 1, 'u': 1}\n",
            "be: {'a': 0, 'e': 1, 'i': 0, 'o': 0, 'u': 0}\n"
          ]
        }
      ]
    },
    {
      "cell_type": "markdown",
      "metadata": {
        "id": "CmFoI4jDS9nx"
      },
      "source": [
        "# Question 3\n",
        "\n",
        "(15 points). The formula that describes the volume V of a sphere with radius r is the following:\n",
        "\n",
        "$ V=\\frac{4}{3}\\ast\\ \\pi\\ast\\ r^3 $\n",
        "\n",
        "Write a program to calculate the value of V when r is in the range of 1–10. Output the result in the following format:\n",
        "\n",
        "\tr\tV\n",
        "\t1\t…\n",
        "\t2\t…\n",
        "\t3\t…\n"
      ]
    },
    {
      "cell_type": "code",
      "execution_count": 11,
      "metadata": {
        "id": "pEyqeioAT95b",
        "colab": {
          "base_uri": "https://localhost:8080/"
        },
        "outputId": "f3f04963-4738-4e47-8b01-179ba9415feb"
      },
      "outputs": [
        {
          "output_type": "stream",
          "name": "stdout",
          "text": [
            "r    V\n",
            "1    4.19\n",
            "2    33.51\n",
            "3    113.10\n",
            "4    268.08\n",
            "5    523.60\n",
            "6    904.78\n",
            "7    1436.76\n",
            "8    2144.66\n",
            "9    3053.63\n",
            "10    4188.79\n"
          ]
        }
      ],
      "source": [
        "# Your code here\n",
        "import math\n",
        "\n",
        "# Printing the heading\n",
        "print(\"r    V\")\n",
        "\n",
        "# Iterating over the range of radius from 1 to 10\n",
        "for r in range(1, 11):\n",
        "    # Calculating the volume using the formula\n",
        "    V = (4/3) * math.pi * (r ** 3)\n",
        "\n",
        "    # Printing the radius (r) and the calculated volume (V)\n",
        "    print(f\"{r}    {V:.2f}\")\n",
        "\n"
      ]
    },
    {
      "cell_type": "code",
      "execution_count": 12,
      "metadata": {
        "colab": {
          "base_uri": "https://localhost:8080/"
        },
        "id": "qlCIPW9e8lXF",
        "outputId": "3f33963f-db98-4185-caec-29e8d96b772a"
      },
      "outputs": [
        {
          "output_type": "stream",
          "name": "stdout",
          "text": [
            "1     4.1887902047863905\n",
            "2     33.510321638291124\n",
            "3     113.09733552923254\n",
            "4     268.082573106329\n",
            "5     523.5987755982989\n",
            "6     904.7786842338603\n",
            "7     1436.7550402417319\n",
            "8     2144.660584850632\n",
            "9     3053.6280592892786\n",
            "10     4188.790204786391\n"
          ]
        }
      ],
      "source": [
        "#alternative\n",
        "\n",
        "import math\n",
        "\n",
        "def sphere_volume(r):\n",
        "  \"\"\"This function calculates the volume of a sphere with radius r.\n",
        "  Args:\n",
        "    r: The radius of the sphere.\n",
        "  Returns:\n",
        "    The volume of the sphere.\n",
        "  \"\"\"\n",
        "  volume = (4 / 3) * math.pi * r ** 3\n",
        "  return volume\n",
        "\n",
        "\n",
        "def main():\n",
        "  \"\"\"This is the main function of the program.\n",
        "    It calculates the volume of a sphere with radius r in the range of 1-10 and prints the results in the specified format.\n",
        "  \"\"\"\n",
        "  for r in range(1, 11):\n",
        "    volume = sphere_volume(r)\n",
        "    print(f\"{r}     {volume}\")\n",
        "\n",
        "\n",
        "if __name__ == \"__main__\":\n",
        "  main()\n"
      ]
    },
    {
      "cell_type": "markdown",
      "metadata": {
        "id": "z3tBE7E-Xn5X"
      },
      "source": [
        "# Question 4\n",
        "\n",
        "(40 points). In the field of Data Science, data is often formatted as a comma-delimited (CSV) file, where each line in a file corresponds to a field's value. Refer to Chapter 9 (p. 106) for more information on comma-delimited files. To answer this question, you will need to download the file [Assignment1_denton_housing.csv](https://raw.githubusercontent.com/unt-iialab/info5731-spring2022/main/assignments/Assignment1_denton_housing.csv) included with this assignment. The file [Assignment1_denton_housing.csv](https://raw.githubusercontent.com/unt-iialab/info5731-spring2022/main/assignments/Assignment1_denton_housing.csv) contains statistics about housing in the city of Denton from 2008 to 2014. Write a program to implement the following questions.\n",
        "\n",
        "(1) (10 pts) Calculate the difference in the number of Occupied Housing Units from year to year and print it. The difference must be calculated for the consecutive years such as 2008-2009, 2009-2010 etc. Finally, print the values in the ascending order.\n",
        "\n",
        "(2) (10 pts) For all the years, calculate the percentage of housing units which are vacant an occupied. Print the results in the following format:\n",
        "\n",
        "Year Vacant Housing Units Occupied Housing Units\n",
        "\n",
        "    2008  30%   70%                          \n",
        "\t2009 ----- -----\n",
        "\t2010 ----- -----\n",
        "    2011 ----- -----\n",
        "\t2012 ----- -----\n",
        "    2013 ----- -----\n",
        "\t2014 ----- -----\n",
        "  \n",
        "  \n",
        "\n",
        "(3) (10 pts) Calculate and print the valued and years in which the highest number of housing units were vacant and occupied. Print the results in the following format:  \n",
        "\n",
        "                              Year\tValue\n",
        "\tVacant Housing Units\t  -----   -----\n",
        "\tOccupied Housing Units\t-----   -----\n",
        "\n",
        "(4) (10 pts) Calculate the harmonic mean of the total housing units and print it out. You can find the information about harmonic mean here: https://ncalculators.com/statistics/harmonic-mean-calculator.htm"
      ]
    },
    {
      "cell_type": "code",
      "execution_count": 13,
      "metadata": {
        "id": "lqGYuHBhcsRH",
        "colab": {
          "base_uri": "https://localhost:8080/",
          "height": 206
        },
        "outputId": "32fae531-97d7-4780-b546-8237e2eb21bd"
      },
      "outputs": [
        {
          "output_type": "execute_result",
          "data": {
            "text/plain": [
              "   year             title_field  value\n",
              "0  2014     Total Housing Units  49109\n",
              "1  2014    Vacant Housing Units   2814\n",
              "2  2014  Occupied Housing Units  46295\n",
              "3  2013     Total Housing Units  47888\n",
              "4  2013    Vacant Housing Units   4215"
            ],
            "text/html": [
              "\n",
              "  <div id=\"df-656529ef-cb5e-4e34-a190-f4ed689f02c2\" class=\"colab-df-container\">\n",
              "    <div>\n",
              "<style scoped>\n",
              "    .dataframe tbody tr th:only-of-type {\n",
              "        vertical-align: middle;\n",
              "    }\n",
              "\n",
              "    .dataframe tbody tr th {\n",
              "        vertical-align: top;\n",
              "    }\n",
              "\n",
              "    .dataframe thead th {\n",
              "        text-align: right;\n",
              "    }\n",
              "</style>\n",
              "<table border=\"1\" class=\"dataframe\">\n",
              "  <thead>\n",
              "    <tr style=\"text-align: right;\">\n",
              "      <th></th>\n",
              "      <th>year</th>\n",
              "      <th>title_field</th>\n",
              "      <th>value</th>\n",
              "    </tr>\n",
              "  </thead>\n",
              "  <tbody>\n",
              "    <tr>\n",
              "      <th>0</th>\n",
              "      <td>2014</td>\n",
              "      <td>Total Housing Units</td>\n",
              "      <td>49109</td>\n",
              "    </tr>\n",
              "    <tr>\n",
              "      <th>1</th>\n",
              "      <td>2014</td>\n",
              "      <td>Vacant Housing Units</td>\n",
              "      <td>2814</td>\n",
              "    </tr>\n",
              "    <tr>\n",
              "      <th>2</th>\n",
              "      <td>2014</td>\n",
              "      <td>Occupied Housing Units</td>\n",
              "      <td>46295</td>\n",
              "    </tr>\n",
              "    <tr>\n",
              "      <th>3</th>\n",
              "      <td>2013</td>\n",
              "      <td>Total Housing Units</td>\n",
              "      <td>47888</td>\n",
              "    </tr>\n",
              "    <tr>\n",
              "      <th>4</th>\n",
              "      <td>2013</td>\n",
              "      <td>Vacant Housing Units</td>\n",
              "      <td>4215</td>\n",
              "    </tr>\n",
              "  </tbody>\n",
              "</table>\n",
              "</div>\n",
              "    <div class=\"colab-df-buttons\">\n",
              "\n",
              "  <div class=\"colab-df-container\">\n",
              "    <button class=\"colab-df-convert\" onclick=\"convertToInteractive('df-656529ef-cb5e-4e34-a190-f4ed689f02c2')\"\n",
              "            title=\"Convert this dataframe to an interactive table.\"\n",
              "            style=\"display:none;\">\n",
              "\n",
              "  <svg xmlns=\"http://www.w3.org/2000/svg\" height=\"24px\" viewBox=\"0 -960 960 960\">\n",
              "    <path d=\"M120-120v-720h720v720H120Zm60-500h600v-160H180v160Zm220 220h160v-160H400v160Zm0 220h160v-160H400v160ZM180-400h160v-160H180v160Zm440 0h160v-160H620v160ZM180-180h160v-160H180v160Zm440 0h160v-160H620v160Z\"/>\n",
              "  </svg>\n",
              "    </button>\n",
              "\n",
              "  <style>\n",
              "    .colab-df-container {\n",
              "      display:flex;\n",
              "      gap: 12px;\n",
              "    }\n",
              "\n",
              "    .colab-df-convert {\n",
              "      background-color: #E8F0FE;\n",
              "      border: none;\n",
              "      border-radius: 50%;\n",
              "      cursor: pointer;\n",
              "      display: none;\n",
              "      fill: #1967D2;\n",
              "      height: 32px;\n",
              "      padding: 0 0 0 0;\n",
              "      width: 32px;\n",
              "    }\n",
              "\n",
              "    .colab-df-convert:hover {\n",
              "      background-color: #E2EBFA;\n",
              "      box-shadow: 0px 1px 2px rgba(60, 64, 67, 0.3), 0px 1px 3px 1px rgba(60, 64, 67, 0.15);\n",
              "      fill: #174EA6;\n",
              "    }\n",
              "\n",
              "    .colab-df-buttons div {\n",
              "      margin-bottom: 4px;\n",
              "    }\n",
              "\n",
              "    [theme=dark] .colab-df-convert {\n",
              "      background-color: #3B4455;\n",
              "      fill: #D2E3FC;\n",
              "    }\n",
              "\n",
              "    [theme=dark] .colab-df-convert:hover {\n",
              "      background-color: #434B5C;\n",
              "      box-shadow: 0px 1px 3px 1px rgba(0, 0, 0, 0.15);\n",
              "      filter: drop-shadow(0px 1px 2px rgba(0, 0, 0, 0.3));\n",
              "      fill: #FFFFFF;\n",
              "    }\n",
              "  </style>\n",
              "\n",
              "    <script>\n",
              "      const buttonEl =\n",
              "        document.querySelector('#df-656529ef-cb5e-4e34-a190-f4ed689f02c2 button.colab-df-convert');\n",
              "      buttonEl.style.display =\n",
              "        google.colab.kernel.accessAllowed ? 'block' : 'none';\n",
              "\n",
              "      async function convertToInteractive(key) {\n",
              "        const element = document.querySelector('#df-656529ef-cb5e-4e34-a190-f4ed689f02c2');\n",
              "        const dataTable =\n",
              "          await google.colab.kernel.invokeFunction('convertToInteractive',\n",
              "                                                    [key], {});\n",
              "        if (!dataTable) return;\n",
              "\n",
              "        const docLinkHtml = 'Like what you see? Visit the ' +\n",
              "          '<a target=\"_blank\" href=https://colab.research.google.com/notebooks/data_table.ipynb>data table notebook</a>'\n",
              "          + ' to learn more about interactive tables.';\n",
              "        element.innerHTML = '';\n",
              "        dataTable['output_type'] = 'display_data';\n",
              "        await google.colab.output.renderOutput(dataTable, element);\n",
              "        const docLink = document.createElement('div');\n",
              "        docLink.innerHTML = docLinkHtml;\n",
              "        element.appendChild(docLink);\n",
              "      }\n",
              "    </script>\n",
              "  </div>\n",
              "\n",
              "\n",
              "<div id=\"df-2d9cf9d1-ae9b-4746-b9e7-65ab1ce91118\">\n",
              "  <button class=\"colab-df-quickchart\" onclick=\"quickchart('df-2d9cf9d1-ae9b-4746-b9e7-65ab1ce91118')\"\n",
              "            title=\"Suggest charts.\"\n",
              "            style=\"display:none;\">\n",
              "\n",
              "<svg xmlns=\"http://www.w3.org/2000/svg\" height=\"24px\"viewBox=\"0 0 24 24\"\n",
              "     width=\"24px\">\n",
              "    <g>\n",
              "        <path d=\"M19 3H5c-1.1 0-2 .9-2 2v14c0 1.1.9 2 2 2h14c1.1 0 2-.9 2-2V5c0-1.1-.9-2-2-2zM9 17H7v-7h2v7zm4 0h-2V7h2v10zm4 0h-2v-4h2v4z\"/>\n",
              "    </g>\n",
              "</svg>\n",
              "  </button>\n",
              "\n",
              "<style>\n",
              "  .colab-df-quickchart {\n",
              "      --bg-color: #E8F0FE;\n",
              "      --fill-color: #1967D2;\n",
              "      --hover-bg-color: #E2EBFA;\n",
              "      --hover-fill-color: #174EA6;\n",
              "      --disabled-fill-color: #AAA;\n",
              "      --disabled-bg-color: #DDD;\n",
              "  }\n",
              "\n",
              "  [theme=dark] .colab-df-quickchart {\n",
              "      --bg-color: #3B4455;\n",
              "      --fill-color: #D2E3FC;\n",
              "      --hover-bg-color: #434B5C;\n",
              "      --hover-fill-color: #FFFFFF;\n",
              "      --disabled-bg-color: #3B4455;\n",
              "      --disabled-fill-color: #666;\n",
              "  }\n",
              "\n",
              "  .colab-df-quickchart {\n",
              "    background-color: var(--bg-color);\n",
              "    border: none;\n",
              "    border-radius: 50%;\n",
              "    cursor: pointer;\n",
              "    display: none;\n",
              "    fill: var(--fill-color);\n",
              "    height: 32px;\n",
              "    padding: 0;\n",
              "    width: 32px;\n",
              "  }\n",
              "\n",
              "  .colab-df-quickchart:hover {\n",
              "    background-color: var(--hover-bg-color);\n",
              "    box-shadow: 0 1px 2px rgba(60, 64, 67, 0.3), 0 1px 3px 1px rgba(60, 64, 67, 0.15);\n",
              "    fill: var(--button-hover-fill-color);\n",
              "  }\n",
              "\n",
              "  .colab-df-quickchart-complete:disabled,\n",
              "  .colab-df-quickchart-complete:disabled:hover {\n",
              "    background-color: var(--disabled-bg-color);\n",
              "    fill: var(--disabled-fill-color);\n",
              "    box-shadow: none;\n",
              "  }\n",
              "\n",
              "  .colab-df-spinner {\n",
              "    border: 2px solid var(--fill-color);\n",
              "    border-color: transparent;\n",
              "    border-bottom-color: var(--fill-color);\n",
              "    animation:\n",
              "      spin 1s steps(1) infinite;\n",
              "  }\n",
              "\n",
              "  @keyframes spin {\n",
              "    0% {\n",
              "      border-color: transparent;\n",
              "      border-bottom-color: var(--fill-color);\n",
              "      border-left-color: var(--fill-color);\n",
              "    }\n",
              "    20% {\n",
              "      border-color: transparent;\n",
              "      border-left-color: var(--fill-color);\n",
              "      border-top-color: var(--fill-color);\n",
              "    }\n",
              "    30% {\n",
              "      border-color: transparent;\n",
              "      border-left-color: var(--fill-color);\n",
              "      border-top-color: var(--fill-color);\n",
              "      border-right-color: var(--fill-color);\n",
              "    }\n",
              "    40% {\n",
              "      border-color: transparent;\n",
              "      border-right-color: var(--fill-color);\n",
              "      border-top-color: var(--fill-color);\n",
              "    }\n",
              "    60% {\n",
              "      border-color: transparent;\n",
              "      border-right-color: var(--fill-color);\n",
              "    }\n",
              "    80% {\n",
              "      border-color: transparent;\n",
              "      border-right-color: var(--fill-color);\n",
              "      border-bottom-color: var(--fill-color);\n",
              "    }\n",
              "    90% {\n",
              "      border-color: transparent;\n",
              "      border-bottom-color: var(--fill-color);\n",
              "    }\n",
              "  }\n",
              "</style>\n",
              "\n",
              "  <script>\n",
              "    async function quickchart(key) {\n",
              "      const quickchartButtonEl =\n",
              "        document.querySelector('#' + key + ' button');\n",
              "      quickchartButtonEl.disabled = true;  // To prevent multiple clicks.\n",
              "      quickchartButtonEl.classList.add('colab-df-spinner');\n",
              "      try {\n",
              "        const charts = await google.colab.kernel.invokeFunction(\n",
              "            'suggestCharts', [key], {});\n",
              "      } catch (error) {\n",
              "        console.error('Error during call to suggestCharts:', error);\n",
              "      }\n",
              "      quickchartButtonEl.classList.remove('colab-df-spinner');\n",
              "      quickchartButtonEl.classList.add('colab-df-quickchart-complete');\n",
              "    }\n",
              "    (() => {\n",
              "      let quickchartButtonEl =\n",
              "        document.querySelector('#df-2d9cf9d1-ae9b-4746-b9e7-65ab1ce91118 button');\n",
              "      quickchartButtonEl.style.display =\n",
              "        google.colab.kernel.accessAllowed ? 'block' : 'none';\n",
              "    })();\n",
              "  </script>\n",
              "</div>\n",
              "    </div>\n",
              "  </div>\n"
            ]
          },
          "metadata": {},
          "execution_count": 13
        }
      ],
      "source": [
        "# Your code here\n",
        "import pandas as pd\n",
        "\n",
        "df = pd.read_csv(\"/content/drive/MyDrive/in_class_exercise/Assignment1_denton_housing.csv\")\n",
        "df.head()\n"
      ]
    },
    {
      "cell_type": "code",
      "execution_count": 14,
      "metadata": {
        "colab": {
          "base_uri": "https://localhost:8080/"
        },
        "id": "YnlAk8S78lXG",
        "outputId": "0fdc0b4f-6d8c-4f95-c332-c0078be8685b"
      },
      "outputs": [
        {
          "output_type": "execute_result",
          "data": {
            "text/plain": [
              "(42, 3)"
            ]
          },
          "metadata": {},
          "execution_count": 14
        }
      ],
      "source": [
        "df.shape"
      ]
    },
    {
      "cell_type": "code",
      "execution_count": 15,
      "metadata": {
        "colab": {
          "base_uri": "https://localhost:8080/"
        },
        "id": "wlvJrQ9q8lXG",
        "outputId": "eab74400-af8b-4f1a-da6a-510a13d93168"
      },
      "outputs": [
        {
          "output_type": "execute_result",
          "data": {
            "text/plain": [
              "year           0\n",
              "title_field    0\n",
              "value          0\n",
              "dtype: int64"
            ]
          },
          "metadata": {},
          "execution_count": 15
        }
      ],
      "source": [
        "df.isnull().sum()"
      ]
    },
    {
      "cell_type": "markdown",
      "metadata": {
        "id": "GR0YPWiV8lXG"
      },
      "source": [
        "### 1"
      ]
    },
    {
      "cell_type": "code",
      "execution_count": 16,
      "metadata": {
        "id": "sjmgDZxk8lXG"
      },
      "outputs": [],
      "source": [
        "#Calculating the difference in the number of Occupied Housing Units from year to year and print it. The difference must be calculated for the consecutive years such as 2008-2009, 2009-2010 etc. Finally, print the values in the ascending order.\n",
        "df = df.sort_values(by='year')\n",
        "occupied_housing_units = df[df['title_field'] == 'Occupied Housing Units'].copy()\n"
      ]
    },
    {
      "cell_type": "code",
      "execution_count": 17,
      "metadata": {
        "colab": {
          "base_uri": "https://localhost:8080/"
        },
        "id": "Lc_dHf2i8lXG",
        "outputId": "2aafb572-5865-435b-8883-f0e344e27afd"
      },
      "outputs": [
        {
          "output_type": "stream",
          "name": "stdout",
          "text": [
            "2009-2010: -795\n",
            "2011-2012: -303\n",
            "2012-2013: 1404\n",
            "2013-2014: 1565\n",
            "2014-2015: 2622\n",
            "2010-2011: 5091\n"
          ]
        }
      ],
      "source": [
        "occupied_housing_units['Occupied Housing Units Difference'] = occupied_housing_units['value'].diff()\n",
        "\n",
        "differences = occupied_housing_units[['year', 'Occupied Housing Units Difference']].dropna().astype({'year': int})\n",
        "differences.sort_values(by='Occupied Housing Units Difference', ascending=True, inplace=True)\n",
        "\n",
        "for index, row in differences.iterrows():\n",
        "    start_year = row['year']\n",
        "    end_year = int(start_year) + 1\n",
        "    diff = int(row['Occupied Housing Units Difference'])\n",
        "    print(f\"{int(start_year)}-{end_year}: {diff}\")"
      ]
    },
    {
      "cell_type": "markdown",
      "metadata": {
        "id": "X7nhrSQD8lXG"
      },
      "source": [
        "### 2"
      ]
    },
    {
      "cell_type": "code",
      "execution_count": 18,
      "metadata": {
        "colab": {
          "base_uri": "https://localhost:8080/",
          "height": 269
        },
        "id": "MsyeQPs88lXH",
        "outputId": "f91668ed-88ac-4fa6-b320-5c1c0c367458"
      },
      "outputs": [
        {
          "output_type": "execute_result",
          "data": {
            "text/plain": [
              "   year  Vacant House  Occupied House  Percent of Vacant House  \\\n",
              "0  2008          4483           36711                10.882653   \n",
              "1  2009          3583           35916                 9.071116   \n",
              "2  2010          3635           41007                 8.142556   \n",
              "3  2011          4213           40704                 9.379522   \n",
              "4  2012          3013           42108                 6.677600   \n",
              "5  2013          4215           43673                 8.801788   \n",
              "6  2014          2814           46295                 5.730111   \n",
              "\n",
              "   Percent of Occupied House  \n",
              "0                  89.117347  \n",
              "1                  90.928884  \n",
              "2                  91.857444  \n",
              "3                  90.620478  \n",
              "4                  93.322400  \n",
              "5                  91.198212  \n",
              "6                  94.269889  "
            ],
            "text/html": [
              "\n",
              "  <div id=\"df-2ba65303-d63a-4fd2-b352-ce59caf84d80\" class=\"colab-df-container\">\n",
              "    <div>\n",
              "<style scoped>\n",
              "    .dataframe tbody tr th:only-of-type {\n",
              "        vertical-align: middle;\n",
              "    }\n",
              "\n",
              "    .dataframe tbody tr th {\n",
              "        vertical-align: top;\n",
              "    }\n",
              "\n",
              "    .dataframe thead th {\n",
              "        text-align: right;\n",
              "    }\n",
              "</style>\n",
              "<table border=\"1\" class=\"dataframe\">\n",
              "  <thead>\n",
              "    <tr style=\"text-align: right;\">\n",
              "      <th></th>\n",
              "      <th>year</th>\n",
              "      <th>Vacant House</th>\n",
              "      <th>Occupied House</th>\n",
              "      <th>Percent of Vacant House</th>\n",
              "      <th>Percent of Occupied House</th>\n",
              "    </tr>\n",
              "  </thead>\n",
              "  <tbody>\n",
              "    <tr>\n",
              "      <th>0</th>\n",
              "      <td>2008</td>\n",
              "      <td>4483</td>\n",
              "      <td>36711</td>\n",
              "      <td>10.882653</td>\n",
              "      <td>89.117347</td>\n",
              "    </tr>\n",
              "    <tr>\n",
              "      <th>1</th>\n",
              "      <td>2009</td>\n",
              "      <td>3583</td>\n",
              "      <td>35916</td>\n",
              "      <td>9.071116</td>\n",
              "      <td>90.928884</td>\n",
              "    </tr>\n",
              "    <tr>\n",
              "      <th>2</th>\n",
              "      <td>2010</td>\n",
              "      <td>3635</td>\n",
              "      <td>41007</td>\n",
              "      <td>8.142556</td>\n",
              "      <td>91.857444</td>\n",
              "    </tr>\n",
              "    <tr>\n",
              "      <th>3</th>\n",
              "      <td>2011</td>\n",
              "      <td>4213</td>\n",
              "      <td>40704</td>\n",
              "      <td>9.379522</td>\n",
              "      <td>90.620478</td>\n",
              "    </tr>\n",
              "    <tr>\n",
              "      <th>4</th>\n",
              "      <td>2012</td>\n",
              "      <td>3013</td>\n",
              "      <td>42108</td>\n",
              "      <td>6.677600</td>\n",
              "      <td>93.322400</td>\n",
              "    </tr>\n",
              "    <tr>\n",
              "      <th>5</th>\n",
              "      <td>2013</td>\n",
              "      <td>4215</td>\n",
              "      <td>43673</td>\n",
              "      <td>8.801788</td>\n",
              "      <td>91.198212</td>\n",
              "    </tr>\n",
              "    <tr>\n",
              "      <th>6</th>\n",
              "      <td>2014</td>\n",
              "      <td>2814</td>\n",
              "      <td>46295</td>\n",
              "      <td>5.730111</td>\n",
              "      <td>94.269889</td>\n",
              "    </tr>\n",
              "  </tbody>\n",
              "</table>\n",
              "</div>\n",
              "    <div class=\"colab-df-buttons\">\n",
              "\n",
              "  <div class=\"colab-df-container\">\n",
              "    <button class=\"colab-df-convert\" onclick=\"convertToInteractive('df-2ba65303-d63a-4fd2-b352-ce59caf84d80')\"\n",
              "            title=\"Convert this dataframe to an interactive table.\"\n",
              "            style=\"display:none;\">\n",
              "\n",
              "  <svg xmlns=\"http://www.w3.org/2000/svg\" height=\"24px\" viewBox=\"0 -960 960 960\">\n",
              "    <path d=\"M120-120v-720h720v720H120Zm60-500h600v-160H180v160Zm220 220h160v-160H400v160Zm0 220h160v-160H400v160ZM180-400h160v-160H180v160Zm440 0h160v-160H620v160ZM180-180h160v-160H180v160Zm440 0h160v-160H620v160Z\"/>\n",
              "  </svg>\n",
              "    </button>\n",
              "\n",
              "  <style>\n",
              "    .colab-df-container {\n",
              "      display:flex;\n",
              "      gap: 12px;\n",
              "    }\n",
              "\n",
              "    .colab-df-convert {\n",
              "      background-color: #E8F0FE;\n",
              "      border: none;\n",
              "      border-radius: 50%;\n",
              "      cursor: pointer;\n",
              "      display: none;\n",
              "      fill: #1967D2;\n",
              "      height: 32px;\n",
              "      padding: 0 0 0 0;\n",
              "      width: 32px;\n",
              "    }\n",
              "\n",
              "    .colab-df-convert:hover {\n",
              "      background-color: #E2EBFA;\n",
              "      box-shadow: 0px 1px 2px rgba(60, 64, 67, 0.3), 0px 1px 3px 1px rgba(60, 64, 67, 0.15);\n",
              "      fill: #174EA6;\n",
              "    }\n",
              "\n",
              "    .colab-df-buttons div {\n",
              "      margin-bottom: 4px;\n",
              "    }\n",
              "\n",
              "    [theme=dark] .colab-df-convert {\n",
              "      background-color: #3B4455;\n",
              "      fill: #D2E3FC;\n",
              "    }\n",
              "\n",
              "    [theme=dark] .colab-df-convert:hover {\n",
              "      background-color: #434B5C;\n",
              "      box-shadow: 0px 1px 3px 1px rgba(0, 0, 0, 0.15);\n",
              "      filter: drop-shadow(0px 1px 2px rgba(0, 0, 0, 0.3));\n",
              "      fill: #FFFFFF;\n",
              "    }\n",
              "  </style>\n",
              "\n",
              "    <script>\n",
              "      const buttonEl =\n",
              "        document.querySelector('#df-2ba65303-d63a-4fd2-b352-ce59caf84d80 button.colab-df-convert');\n",
              "      buttonEl.style.display =\n",
              "        google.colab.kernel.accessAllowed ? 'block' : 'none';\n",
              "\n",
              "      async function convertToInteractive(key) {\n",
              "        const element = document.querySelector('#df-2ba65303-d63a-4fd2-b352-ce59caf84d80');\n",
              "        const dataTable =\n",
              "          await google.colab.kernel.invokeFunction('convertToInteractive',\n",
              "                                                    [key], {});\n",
              "        if (!dataTable) return;\n",
              "\n",
              "        const docLinkHtml = 'Like what you see? Visit the ' +\n",
              "          '<a target=\"_blank\" href=https://colab.research.google.com/notebooks/data_table.ipynb>data table notebook</a>'\n",
              "          + ' to learn more about interactive tables.';\n",
              "        element.innerHTML = '';\n",
              "        dataTable['output_type'] = 'display_data';\n",
              "        await google.colab.output.renderOutput(dataTable, element);\n",
              "        const docLink = document.createElement('div');\n",
              "        docLink.innerHTML = docLinkHtml;\n",
              "        element.appendChild(docLink);\n",
              "      }\n",
              "    </script>\n",
              "  </div>\n",
              "\n",
              "\n",
              "<div id=\"df-f6e2f34e-f2b0-4404-935d-0371b9436428\">\n",
              "  <button class=\"colab-df-quickchart\" onclick=\"quickchart('df-f6e2f34e-f2b0-4404-935d-0371b9436428')\"\n",
              "            title=\"Suggest charts.\"\n",
              "            style=\"display:none;\">\n",
              "\n",
              "<svg xmlns=\"http://www.w3.org/2000/svg\" height=\"24px\"viewBox=\"0 0 24 24\"\n",
              "     width=\"24px\">\n",
              "    <g>\n",
              "        <path d=\"M19 3H5c-1.1 0-2 .9-2 2v14c0 1.1.9 2 2 2h14c1.1 0 2-.9 2-2V5c0-1.1-.9-2-2-2zM9 17H7v-7h2v7zm4 0h-2V7h2v10zm4 0h-2v-4h2v4z\"/>\n",
              "    </g>\n",
              "</svg>\n",
              "  </button>\n",
              "\n",
              "<style>\n",
              "  .colab-df-quickchart {\n",
              "      --bg-color: #E8F0FE;\n",
              "      --fill-color: #1967D2;\n",
              "      --hover-bg-color: #E2EBFA;\n",
              "      --hover-fill-color: #174EA6;\n",
              "      --disabled-fill-color: #AAA;\n",
              "      --disabled-bg-color: #DDD;\n",
              "  }\n",
              "\n",
              "  [theme=dark] .colab-df-quickchart {\n",
              "      --bg-color: #3B4455;\n",
              "      --fill-color: #D2E3FC;\n",
              "      --hover-bg-color: #434B5C;\n",
              "      --hover-fill-color: #FFFFFF;\n",
              "      --disabled-bg-color: #3B4455;\n",
              "      --disabled-fill-color: #666;\n",
              "  }\n",
              "\n",
              "  .colab-df-quickchart {\n",
              "    background-color: var(--bg-color);\n",
              "    border: none;\n",
              "    border-radius: 50%;\n",
              "    cursor: pointer;\n",
              "    display: none;\n",
              "    fill: var(--fill-color);\n",
              "    height: 32px;\n",
              "    padding: 0;\n",
              "    width: 32px;\n",
              "  }\n",
              "\n",
              "  .colab-df-quickchart:hover {\n",
              "    background-color: var(--hover-bg-color);\n",
              "    box-shadow: 0 1px 2px rgba(60, 64, 67, 0.3), 0 1px 3px 1px rgba(60, 64, 67, 0.15);\n",
              "    fill: var(--button-hover-fill-color);\n",
              "  }\n",
              "\n",
              "  .colab-df-quickchart-complete:disabled,\n",
              "  .colab-df-quickchart-complete:disabled:hover {\n",
              "    background-color: var(--disabled-bg-color);\n",
              "    fill: var(--disabled-fill-color);\n",
              "    box-shadow: none;\n",
              "  }\n",
              "\n",
              "  .colab-df-spinner {\n",
              "    border: 2px solid var(--fill-color);\n",
              "    border-color: transparent;\n",
              "    border-bottom-color: var(--fill-color);\n",
              "    animation:\n",
              "      spin 1s steps(1) infinite;\n",
              "  }\n",
              "\n",
              "  @keyframes spin {\n",
              "    0% {\n",
              "      border-color: transparent;\n",
              "      border-bottom-color: var(--fill-color);\n",
              "      border-left-color: var(--fill-color);\n",
              "    }\n",
              "    20% {\n",
              "      border-color: transparent;\n",
              "      border-left-color: var(--fill-color);\n",
              "      border-top-color: var(--fill-color);\n",
              "    }\n",
              "    30% {\n",
              "      border-color: transparent;\n",
              "      border-left-color: var(--fill-color);\n",
              "      border-top-color: var(--fill-color);\n",
              "      border-right-color: var(--fill-color);\n",
              "    }\n",
              "    40% {\n",
              "      border-color: transparent;\n",
              "      border-right-color: var(--fill-color);\n",
              "      border-top-color: var(--fill-color);\n",
              "    }\n",
              "    60% {\n",
              "      border-color: transparent;\n",
              "      border-right-color: var(--fill-color);\n",
              "    }\n",
              "    80% {\n",
              "      border-color: transparent;\n",
              "      border-right-color: var(--fill-color);\n",
              "      border-bottom-color: var(--fill-color);\n",
              "    }\n",
              "    90% {\n",
              "      border-color: transparent;\n",
              "      border-bottom-color: var(--fill-color);\n",
              "    }\n",
              "  }\n",
              "</style>\n",
              "\n",
              "  <script>\n",
              "    async function quickchart(key) {\n",
              "      const quickchartButtonEl =\n",
              "        document.querySelector('#' + key + ' button');\n",
              "      quickchartButtonEl.disabled = true;  // To prevent multiple clicks.\n",
              "      quickchartButtonEl.classList.add('colab-df-spinner');\n",
              "      try {\n",
              "        const charts = await google.colab.kernel.invokeFunction(\n",
              "            'suggestCharts', [key], {});\n",
              "      } catch (error) {\n",
              "        console.error('Error during call to suggestCharts:', error);\n",
              "      }\n",
              "      quickchartButtonEl.classList.remove('colab-df-spinner');\n",
              "      quickchartButtonEl.classList.add('colab-df-quickchart-complete');\n",
              "    }\n",
              "    (() => {\n",
              "      let quickchartButtonEl =\n",
              "        document.querySelector('#df-f6e2f34e-f2b0-4404-935d-0371b9436428 button');\n",
              "      quickchartButtonEl.style.display =\n",
              "        google.colab.kernel.accessAllowed ? 'block' : 'none';\n",
              "    })();\n",
              "  </script>\n",
              "</div>\n",
              "    </div>\n",
              "  </div>\n"
            ]
          },
          "metadata": {},
          "execution_count": 18
        }
      ],
      "source": [
        "# Getting the list of unique years in sorted order\n",
        "unique_years = sorted(list(df['year'].unique()))\n",
        "\n",
        "# Filtering the DataFrame for occupied housing units and sort by year\n",
        "occupied_houses = df[df['title_field'] == 'Occupied Housing Units'].sort_values(by=['year'])\n",
        "\n",
        "# Filtering the DataFrame for vacant housing units and sort by year\n",
        "vacant_houses = df[df['title_field'] == 'Vacant Housing Units'].sort_values(by=['year'])\n",
        "\n",
        "# Creating a new DataFrame to store the results\n",
        "new_house_df = pd.DataFrame()\n",
        "new_house_df['year'] = unique_years\n",
        "new_house_df['Vacant House'] = vacant_houses['value'].values\n",
        "new_house_df['Occupied House'] = occupied_houses['value'].values\n",
        "\n",
        "# Calculating the percentage of vacant and occupied houses\n",
        "new_house_df['Percent of Vacant House'] = [(new_house_df['Vacant House'][i] * 100) /\n",
        "                                            (new_house_df['Vacant House'][i] + new_house_df['Occupied House'][i])\n",
        "                                            for i in range(len(new_house_df))]\n",
        "\n",
        "new_house_df['Percent of Occupied House'] = [(new_house_df['Occupied House'][i] * 100) /\n",
        "                                              (new_house_df['Vacant House'][i] + new_house_df['Occupied House'][i])\n",
        "                                              for i in range(len(new_house_df))]\n",
        "\n",
        "# Print the resulting DataFrame\n",
        "new_house_df"
      ]
    },
    {
      "cell_type": "code",
      "execution_count": 19,
      "metadata": {
        "colab": {
          "base_uri": "https://localhost:8080/"
        },
        "id": "seJXLDV78lXH",
        "outputId": "83f8987b-fab4-4ada-e44e-b70c19a11503"
      },
      "outputs": [
        {
          "output_type": "stream",
          "name": "stdout",
          "text": [
            " Year  Vacant Housing Units  Occupied Housing Units\n",
            " 2008                   11%                     89%\n",
            " 2009                    9%                     91%\n",
            " 2010                    8%                     92%\n",
            " 2011                    9%                     91%\n",
            " 2012                    7%                     93%\n",
            " 2013                    9%                     91%\n",
            " 2014                    6%                     94%\n"
          ]
        }
      ],
      "source": [
        "\n",
        "# Filteing the DataFrame to select only 'Total Housing Units', 'Vacant Housing Units', and 'Occupied Housing Units'\n",
        "filtered_df = df[df['title_field'].isin(['Total Housing Units', 'Vacant Housing Units', 'Occupied Housing Units'])]\n",
        "\n",
        "# Pivoting the DataFrame to have years as columns and 'title_field' as values\n",
        "pivot_df = filtered_df.pivot(index='year', columns='title_field', values='value')\n",
        "\n",
        "# Calculating the total housing units for each year\n",
        "pivot_df['Total Housing Units'] = pivot_df['Vacant Housing Units'] + pivot_df['Occupied Housing Units']\n",
        "\n",
        "# Calculating the percentage of vacant and occupied housing units for each year\n",
        "pivot_df['Vacant Housing Units Percentage'] = (pivot_df['Vacant Housing Units'] / pivot_df['Total Housing Units']) * 100\n",
        "pivot_df['Occupied Housing Units Percentage'] = (pivot_df['Occupied Housing Units'] / pivot_df['Total Housing Units']) * 100\n",
        "\n",
        "# Printing the result with proper formatting\n",
        "result_df = pivot_df[['Vacant Housing Units Percentage', 'Occupied Housing Units Percentage']].reset_index()\n",
        "result_df.columns = ['Year', 'Vacant Housing Units', 'Occupied Housing Units']\n",
        "\n",
        "print(result_df.to_string(index=False, na_rep='-----', float_format='%.0f%%'))"
      ]
    },
    {
      "cell_type": "markdown",
      "metadata": {
        "id": "1rULqws68lXH"
      },
      "source": [
        "### 3"
      ]
    },
    {
      "cell_type": "code",
      "execution_count": 20,
      "metadata": {
        "colab": {
          "base_uri": "https://localhost:8080/"
        },
        "id": "thre1rIe8lXH",
        "outputId": "1a9905a9-a23e-4f49-bd05-3cffb14afb7b"
      },
      "outputs": [
        {
          "output_type": "stream",
          "name": "stdout",
          "text": [
            "                        Year  Value\n",
            "Vacant Housing Units    2008   4483\n",
            "Occupied Housing Units  2014  46295\n"
          ]
        }
      ],
      "source": [
        "# Pivoting the DataFrame to have years as columns and 'Vacant Housing Units' and 'Occupied Housing Units' as values\n",
        "pivot_df = df.pivot(index='year', columns='title_field', values='value')\n",
        "\n",
        "# Calculating the year with the highest number of vacant housing units\n",
        "year_with_highest_vacant_units = pivot_df['Vacant Housing Units'].idxmax()\n",
        "highest_vacant_units = pivot_df['Vacant Housing Units'].max()\n",
        "\n",
        "# Calculating the year with the highest number of occupied housing units\n",
        "year_with_highest_occupied_units = pivot_df['Occupied Housing Units'].idxmax()\n",
        "highest_occupied_units = pivot_df['Occupied Housing Units'].max()\n",
        "\n",
        "# Creating a DataFrame for the results\n",
        "result_df = pd.DataFrame({\n",
        "    'Year': [year_with_highest_vacant_units, year_with_highest_occupied_units],\n",
        "    'Value': [highest_vacant_units, highest_occupied_units]\n",
        "})\n",
        "\n",
        "# Renaming the index values for better formatting\n",
        "result_df.index = ['Vacant Housing Units', 'Occupied Housing Units']\n",
        "\n",
        "# Print the output\n",
        "print(result_df.to_string(index=True, header=True))"
      ]
    },
    {
      "cell_type": "markdown",
      "metadata": {
        "id": "Ukz4hMZj8lXH"
      },
      "source": [
        "### 4"
      ]
    },
    {
      "cell_type": "code",
      "execution_count": 21,
      "metadata": {
        "colab": {
          "base_uri": "https://localhost:8080/"
        },
        "id": "9-XLdq2z8lXH",
        "outputId": "66de57c3-8ca3-4940-b254-ebeda4d41ecd"
      },
      "outputs": [
        {
          "output_type": "stream",
          "name": "stdout",
          "text": [
            "Harmonic Mean of Total Housing Units: 44398.28543969185\n"
          ]
        }
      ],
      "source": [
        "import statistics\n",
        "# Filtering the DataFrame to select only 'Total Housing Units'\n",
        "total_housing_units = df[df['title_field'] == 'Total Housing Units']['value'].tolist()\n",
        "\n",
        "# Calculating the harmonic mean using the statistics module\n",
        "harmonic_mean = statistics.harmonic_mean(total_housing_units)\n",
        "\n",
        "# Printing the harmonic mean\n",
        "print(\"Harmonic Mean of Total Housing Units:\", harmonic_mean)"
      ]
    },
    {
      "cell_type": "markdown",
      "metadata": {
        "id": "HI2ggFU38lXH"
      },
      "source": [
        "### Thank you!"
      ]
    }
  ],
  "metadata": {
    "colab": {
      "provenance": [],
      "include_colab_link": true
    },
    "kernelspec": {
      "display_name": "Python 3 (ipykernel)",
      "language": "python",
      "name": "python3"
    },
    "language_info": {
      "codemirror_mode": {
        "name": "ipython",
        "version": 3
      },
      "file_extension": ".py",
      "mimetype": "text/x-python",
      "name": "python",
      "nbconvert_exporter": "python",
      "pygments_lexer": "ipython3",
      "version": "3.9.16"
    }
  },
  "nbformat": 4,
  "nbformat_minor": 0
}