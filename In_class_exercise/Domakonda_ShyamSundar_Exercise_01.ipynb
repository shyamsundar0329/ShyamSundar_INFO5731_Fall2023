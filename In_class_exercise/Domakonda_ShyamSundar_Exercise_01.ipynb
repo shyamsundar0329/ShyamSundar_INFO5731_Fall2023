{
  "cells": [
    {
      "cell_type": "markdown",
      "metadata": {
        "id": "view-in-github",
        "colab_type": "text"
      },
      "source": [
        "<a href=\"https://colab.research.google.com/github/shyamsundar0329/ShyamSundar_INFO5731_Fall2023/blob/main/In_class_exercise/Domakonda_ShyamSundar_Exercise_01.ipynb\" target=\"_parent\"><img src=\"https://colab.research.google.com/assets/colab-badge.svg\" alt=\"Open In Colab\"/></a>"
      ]
    },
    {
      "cell_type": "markdown",
      "metadata": {
        "id": "DymRJbxDBCnf"
      },
      "source": [
        "# **The first In-class-exercise (08/30/2023, 40 points in total)**\n",
        "This exercise is due tomorrow 08/31/203 11:59 PM.\n"
      ]
    },
    {
      "cell_type": "markdown",
      "source": [
        "(1) Write a Python program to calculate the area of a rectangle using user-input length and width."
      ],
      "metadata": {
        "id": "FBKvD6O_TY6e"
      }
    },
    {
      "cell_type": "code",
      "source": [
        "# To get user input for length and width of rectangle with help of Input() function. Input() function will take input as string so, converted to float.\n",
        "length = float(input(\"Enter the length of the rectangle: \"))\n",
        "width = float(input(\"Enter the width of the rectangle: \"))\n",
        "\n",
        "# Calculating the area of Rectangle\n",
        "area = length * width #Multiplying the length and width to calculate the area of the rectangle\n",
        "\n",
        "# printing the output\n",
        "print(f\"The area of the rectangle is: {area}\") # Printing the calculated area using an f-string.\n"
      ],
      "metadata": {
        "id": "cikVKDXdTbzE",
        "colab": {
          "base_uri": "https://localhost:8080/"
        },
        "outputId": "cc3442b2-b6ec-4028-bf71-d54f43387786"
      },
      "execution_count": 1,
      "outputs": [
        {
          "output_type": "stream",
          "name": "stdout",
          "text": [
            "Enter the length of the rectangle: 29\n",
            "Enter the width of the rectangle: 24\n",
            "The area of the rectangle is: 696.0\n"
          ]
        }
      ]
    },
    {
      "cell_type": "markdown",
      "source": [
        "(2) Create a program that takes two numbers from the user and swaps their values without using a temporary variable."
      ],
      "metadata": {
        "id": "E9RqrlwdTfvl"
      }
    },
    {
      "cell_type": "code",
      "source": [
        "# taking input from user with help input() function for the two numbers\n",
        "a = int(input(\"Enter the first number: \"))\n",
        "b = int(input(\"Enter the second number: \"))\n",
        "\n",
        "print(\"\\n\")\n",
        "\n",
        "# Printing the user entered numbers\n",
        "print(\"Before swapping the number\")\n",
        "print(\"\\n\")\n",
        "print(\"First number:\", a)\n",
        "print(\"Second number:\", b)\n",
        "\n",
        "# Swapping without a temporary variable\n",
        "a = a + b\n",
        "b = a - b\n",
        "a = a - b\n",
        "\n",
        "print(\"\\n\")\n",
        "\n",
        "# Printing the swapped numbers\n",
        "print(\"After swapping the number\")\n",
        "print(\"First number:\", a)\n",
        "print(\"Second number:\", b)\n"
      ],
      "metadata": {
        "id": "4XvRknixTh1g",
        "colab": {
          "base_uri": "https://localhost:8080/"
        },
        "outputId": "1cb1a928-1c3c-49e0-c9c3-e245dca34142"
      },
      "execution_count": 4,
      "outputs": [
        {
          "output_type": "stream",
          "name": "stdout",
          "text": [
            "Enter the first number: 10\n",
            "Enter the second number: 5\n",
            "\n",
            "\n",
            "Before swapping the number\n",
            "\n",
            "\n",
            "First number: 10\n",
            "Second number: 5\n",
            "\n",
            "\n",
            "After swapping the number\n",
            "First number: 5\n",
            "Second number: 10\n"
          ]
        }
      ]
    },
    {
      "cell_type": "markdown",
      "metadata": {
        "id": "03jb4GZsBkBS"
      },
      "source": [
        "(3) Write a Python program to calculate the length of a string."
      ]
    },
    {
      "cell_type": "code",
      "execution_count": 5,
      "metadata": {
        "id": "YaGLbSHHB8Ej",
        "colab": {
          "base_uri": "https://localhost:8080/"
        },
        "outputId": "d9704f8c-fbc0-41d4-c295-9aa09bfbdf94"
      },
      "outputs": [
        {
          "output_type": "stream",
          "name": "stdout",
          "text": [
            "Enter a string: Shyam\n",
            "The length of the string is: 5\n"
          ]
        }
      ],
      "source": [
        "# taking input string from the user with help of input()\n",
        "string_name = input(\"Enter a string: \")\n",
        "\n",
        "# Calculating the length of the string use len() function, it is built in function in python\n",
        "length = len(string_name)\n",
        "\n",
        "# printing the output\n",
        "print(f\"The length of the string is: {length}\") # Printing the calculated length using an f-string.\n",
        "\n"
      ]
    },
    {
      "cell_type": "markdown",
      "metadata": {
        "id": "jJDe71iLB616"
      },
      "source": [
        "(4) Write a Python program to count the number of characters in a string.\n",
        "\n",
        "Sample String : 'google.com‘,\n",
        "\n",
        "Expected Result : {'o': 3, 'g': 2, '.': 1, 'e': 1, 'l': 1, 'm': 1, 'c': 1}"
      ]
    },
    {
      "cell_type": "code",
      "source": [
        "\n",
        "import operator\n",
        "\n",
        "def string_to_dict(input_str):\n",
        "    char_dict = {}  # Creating an empty dictionary to store character counts\n",
        "\n",
        "    # Iterating through each character in the input string\n",
        "    for char in input_str:\n",
        "        count = 0\n",
        "        for s in input_str:\n",
        "            if char == s:\n",
        "                count += 1\n",
        "        char_dict[char] = count\n",
        "\n",
        "    # Sort the dictionary based on character counts in descending order\n",
        "    sorted_dict = dict(sorted(char_dict.items(), key=operator.itemgetter(1), reverse=True))\n",
        "\n",
        "    return sorted_dict\n",
        "\n",
        "# Declaring an input string and calling the function\n",
        "string = \"google.com\"\n",
        "result = string_to_dict(string)\n",
        "print(\"Expected Result:\", result)\n"
      ],
      "metadata": {
        "colab": {
          "base_uri": "https://localhost:8080/"
        },
        "id": "9vKy8HpatIoh",
        "outputId": "1d10ebe9-091f-4d18-d7b9-11b816a24c42"
      },
      "execution_count": 58,
      "outputs": [
        {
          "output_type": "stream",
          "name": "stdout",
          "text": [
            "Expected Result: {'o': 3, 'g': 2, 'l': 1, 'e': 1, '.': 1, 'c': 1, 'm': 1}\n"
          ]
        }
      ]
    },
    {
      "cell_type": "code",
      "source": [
        "# taking input sample string from the user with help of input()\n",
        "sample_string = \"google.com\"\n",
        "\n",
        "# Creating an empty dictionary to store the count of characters.\n",
        "character_count = {}\n",
        "\n",
        "# Counting the characters in the sample string\n",
        "for character in sample_string:\n",
        "    if character in character_count:\n",
        "        character_count[character] += 1\n",
        "    else:\n",
        "        character_count[character] = 1\n",
        "\n",
        "# printing the characters count in sample\n",
        "print(\"Character counts:\", character_count)\n"
      ],
      "metadata": {
        "colab": {
          "base_uri": "https://localhost:8080/"
        },
        "id": "-pdNEdAbB1NN",
        "outputId": "be687865-0267-41c1-dd52-92012dc73e97"
      },
      "execution_count": 10,
      "outputs": [
        {
          "output_type": "stream",
          "name": "stdout",
          "text": [
            "Character counts: {'g': 2, 'o': 3, 'l': 1, 'e': 1, '.': 1, 'c': 1, 'm': 1}\n"
          ]
        }
      ]
    },
    {
      "cell_type": "code",
      "execution_count": 8,
      "metadata": {
        "id": "MtKskTzbCLaU",
        "colab": {
          "base_uri": "https://localhost:8080/"
        },
        "outputId": "0a2abc6a-bbc2-4b16-9e1c-6ac01812a9c7"
      },
      "outputs": [
        {
          "output_type": "stream",
          "name": "stdout",
          "text": [
            "Enter a string: google.com\n",
            "Character counts: {'g': 2, 'o': 3, 'l': 1, 'e': 1, '.': 1, 'c': 1, 'm': 1}\n"
          ]
        }
      ],
      "source": [
        "# taking input sample string from the user with help of input()\n",
        "sample_string = input(\"Enter a string: \")\n",
        "\n",
        "# Creating an empty dictionary to store the count of characters.\n",
        "character_count = {}\n",
        "\n",
        "# Counting the characters in the sample string\n",
        "for character in sample_string:\n",
        "    if character in character_count:\n",
        "        character_count[character] += 1\n",
        "    else:\n",
        "        character_count[character] = 1\n",
        "\n",
        "# printing the characters count in sample\n",
        "print(\"Character counts:\", character_count)\n"
      ]
    },
    {
      "cell_type": "markdown",
      "metadata": {
        "id": "55W9AMdXCSpV"
      },
      "source": [
        "(5) Write a Python program to sum all the items in a list."
      ]
    },
    {
      "cell_type": "code",
      "execution_count": 9,
      "metadata": {
        "id": "I57NXsauCec2",
        "colab": {
          "base_uri": "https://localhost:8080/"
        },
        "outputId": "483947e4-610d-43ed-d6ea-8676dd872252"
      },
      "outputs": [
        {
          "output_type": "stream",
          "name": "stdout",
          "text": [
            "The sum of all the items in a list_1: 15\n"
          ]
        }
      ],
      "source": [
        "# creating list with elements in it.\n",
        "list_1 = [1, 2, 3, 4,5]\n",
        "\n",
        "# Calculate the sum of the numbers in the list\n",
        "sum_of_list_items = sum(list_1)\n",
        "\n",
        "# Display the sum\n",
        "print(f\"The sum of all the items in a list_1: {sum_of_list_items}\")\n",
        "\n"
      ]
    },
    {
      "cell_type": "markdown",
      "metadata": {
        "id": "4ulBZ6yhCi9F"
      },
      "source": [
        "(6) Write a Python program to get a string from a given string where all occurrences of its first char have been changed to '\\$', except the first char itself.\n",
        "\n",
        "Sample String : 'restart‘,\n",
        "\n",
        "Expected Result : 'resta\\$t'"
      ]
    },
    {
      "cell_type": "code",
      "source": [
        "def replacing_string(s):\n",
        "    # Get the first character of the input string\n",
        "    first_character = s[0]\n",
        "\n",
        "    # Replacing all occurrences of the first character with '$'\n",
        "    modified_string = first_character + s[1:].replace(first_character, '$')\n",
        "\n",
        "    return modified_string\n",
        "\n",
        "# Sample String\n",
        "sample_string = 'restart'\n",
        "\n",
        "# Calling the replacing_string function and printing the output\n",
        "result = replacing_string(sample_string)\n",
        "print(\"Original String:\", sample_string)\n",
        "print(\"Modified String:\", result)\n"
      ],
      "metadata": {
        "colab": {
          "base_uri": "https://localhost:8080/"
        },
        "id": "uG2c9luEQwgY",
        "outputId": "f531e73c-5b9b-4bb9-9e39-beaab6f64045"
      },
      "execution_count": 14,
      "outputs": [
        {
          "output_type": "stream",
          "name": "stdout",
          "text": [
            "Original String: restart\n",
            "Modified String: resta$t\n"
          ]
        }
      ]
    },
    {
      "cell_type": "markdown",
      "source": [
        "(7) Create a program that calculates the factorial of a number using a while loop."
      ],
      "metadata": {
        "id": "qVXA3q7ET5JI"
      }
    },
    {
      "cell_type": "code",
      "source": [
        "\n",
        "\n",
        "#Defining  a factorial and loop variable\n",
        "fact = 1\n",
        "i = 1\n",
        "\n",
        "# taking input from the user with help of input()\n",
        "\n",
        "number = int(input(\"Enter a number: \"))\n",
        "\n",
        "# checking the number is negative or positive\n",
        "if number < 0:\n",
        "    print(\"Factorial does not exist for negative numbers\")\n",
        "else:\n",
        "  # Calculating factorial using a while loop\n",
        "    while i <= number:\n",
        "        fact = fact*i\n",
        "        i = i + 1\n",
        "    print(\"The factorial of\", number, \"is\", fact)\n"
      ],
      "metadata": {
        "colab": {
          "base_uri": "https://localhost:8080/"
        },
        "id": "Jp-ux_xaVttU",
        "outputId": "497e8508-a77b-4d01-ff47-32ab04a16a39"
      },
      "execution_count": 20,
      "outputs": [
        {
          "output_type": "stream",
          "name": "stdout",
          "text": [
            "Enter a number: 10\n",
            "The factorial of 10 is 3628800\n"
          ]
        }
      ]
    },
    {
      "cell_type": "markdown",
      "source": [
        "(8) Create a program that takes a list of numbers as input and outputs a new list with only the even numbers."
      ],
      "metadata": {
        "id": "6YfbzXMNT--R"
      }
    },
    {
      "cell_type": "code",
      "source": [
        "# taking input from the user and creating a list of numbers\n",
        "list_1 = input(\"Enter a list of numbers separated by spaces: \")\n",
        "\n",
        "list_1 = [int(x) for x in list_1.split()]\n",
        "\n",
        "# creating an empty list to store even numbers\n",
        "even_numbers_list = []\n",
        "\n",
        "# Looping through each number in the input list given\n",
        "for number in list_1:\n",
        "    if number % 2 == 0:  # Checking the number is even  or not\n",
        "        # Adding even number to the list - even_numbers_list\n",
        "        even_numbers_list.append(number)\n",
        "\n",
        "# Printing the list of even numbers\n",
        "print(\"Even numbers list:\", even_numbers_list)\n"
      ],
      "metadata": {
        "id": "54q7wMQPUAKu",
        "colab": {
          "base_uri": "https://localhost:8080/"
        },
        "outputId": "aca7ba05-99d3-414c-baa9-66281fe1e403"
      },
      "execution_count": 23,
      "outputs": [
        {
          "output_type": "stream",
          "name": "stdout",
          "text": [
            "Enter a list of numbers separated by spaces: 1 2 3 4 5 6\n",
            "Even numbers list: [2, 4, 6]\n"
          ]
        }
      ]
    },
    {
      "cell_type": "markdown",
      "metadata": {
        "id": "_bIP7s1MCzue"
      },
      "source": [
        "(9) Write a program with python which could accept two parameter a and b to calculate and output the result of S, where\n",
        "\n",
        "$\\ S=3.14*(1+a/b)^3$\n",
        "\n"
      ]
    },
    {
      "cell_type": "code",
      "execution_count": 24,
      "metadata": {
        "id": "w79QilHXD3Mg",
        "colab": {
          "base_uri": "https://localhost:8080/"
        },
        "outputId": "51cb0552-6547-4b41-f4d6-5f61fcbce41d"
      },
      "outputs": [
        {
          "output_type": "stream",
          "name": "stdout",
          "text": [
            "Enter the value of 'a': 10\n",
            "Enter the value of 'b': 20\n",
            "The result of S: 10.5975\n"
          ]
        }
      ],
      "source": [
        "# taking input values for 'a' and 'b' from the user\n",
        "a = float(input(\"Enter the value of 'a': \"))\n",
        "b = float(input(\"Enter the value of 'b': \"))\n",
        "\n",
        "# Calculating the value of 'S' using the formula given\n",
        "S = 3.14 * (1 + a / b) ** 3\n",
        "\n",
        "# Printing the output  of 'S'\n",
        "print(\"The result of S:\", S)\n",
        "\n"
      ]
    },
    {
      "cell_type": "code",
      "source": [
        "#Alternative method\n",
        "# Function to calculate S using the provided formula\n",
        "def calculate_S(a, b):\n",
        "    S = 3.14 * (1 + a / b) ** 3\n",
        "    return S\n",
        "\n",
        "# taking input values for 'a' and 'b' from the user\n",
        "a = float(input(\"Enter the value of 'a': \"))\n",
        "b = float(input(\"Enter the value of 'b': \"))\n",
        "\n",
        "# Calling the calculate_S function to get the output\n",
        "result = calculate_S(a, b)\n",
        "\n",
        "# Printing the output  of 'S'\n",
        "print(\"The result of S:\", result)\n"
      ],
      "metadata": {
        "colab": {
          "base_uri": "https://localhost:8080/"
        },
        "id": "mre2YFjkZ8r-",
        "outputId": "361070cf-ab02-45bb-d8e0-6c990a9d5492"
      },
      "execution_count": 25,
      "outputs": [
        {
          "output_type": "stream",
          "name": "stdout",
          "text": [
            "Enter the value of 'a': 10\n",
            "Enter the value of 'b': 20\n",
            "The result of S: 10.5975\n"
          ]
        }
      ]
    },
    {
      "cell_type": "markdown",
      "metadata": {
        "id": "xCa2bK9aD4Q3"
      },
      "source": [
        "(10) Write a Python program to concatenate following dictionaries to create a new one.\n",
        "\n",
        "Sample Dictionary : dic1={1:10, 2:20}, dic2={3:30, 4:40}, dic3={5:50,6:60},\n",
        "\n",
        "Expected Result : {1: 10, 2: 20, 3: 30, 4: 40, 5: 50, 6: 60}\n"
      ]
    },
    {
      "cell_type": "code",
      "execution_count": 26,
      "metadata": {
        "id": "_z4aLqAbEET1",
        "colab": {
          "base_uri": "https://localhost:8080/"
        },
        "outputId": "ad35db36-8083-4f5e-c6b3-a1a0da6e31d4"
      },
      "outputs": [
        {
          "output_type": "stream",
          "name": "stdout",
          "text": [
            "Concatenated Dictionary: {1: 10, 2: 20, 3: 30, 4: 40, 5: 50, 6: 60}\n"
          ]
        }
      ],
      "source": [
        "# Sample dictionaries\n",
        "dic1 = {1: 10, 2: 20}\n",
        "dic2 = {3: 30, 4: 40}\n",
        "dic3 = {5: 50, 6: 60}\n",
        "\n",
        "# Creating an empty dictionary to store the concatenated dictionary results\n",
        "concatenated_dictionary = {}\n",
        "\n",
        "# Iterate through each dictionary and add its key-value pairs to the concatenated_dict\n",
        "for dic in [dic1, dic2, dic3]:\n",
        "    concatenated_dictionary.update(dic)\n",
        "\n",
        "# Printing the output of the concatenated dictionary\n",
        "print(\"Concatenated Dictionary:\", concatenated_dictionary)\n"
      ]
    },
    {
      "cell_type": "markdown",
      "source": [
        "(11) Write a Python function that accepts a tuple of integers and returns the largest and smallest elements."
      ],
      "metadata": {
        "id": "bkyZ2xSZUOst"
      }
    },
    {
      "cell_type": "code",
      "source": [
        "\n",
        "\n",
        "def find_largest_smallest(numbers):\n",
        "\n",
        "  #Initialize variables to store the largest and smallest elements.\n",
        "\n",
        "  largest = numbers[0]\n",
        "  smallest = numbers[0]\n",
        "\n",
        "\n",
        "  #Iterate over the numbers tuple.\n",
        "\n",
        "  for number in numbers:\n",
        "\n",
        "    #If the number is larger than the largest element, update the largest element.\n",
        "\n",
        "    if number > largest:\n",
        "      largest = number\n",
        "\n",
        "\n",
        "    #If the number is smaller than the smallest element, update the smallest element.\n",
        "\n",
        "    if number < smallest:\n",
        "      smallest = number\n",
        "\n",
        "\n",
        "  #Return a tuple of the largest and smallest elements.\n",
        "\n",
        "  return largest, smallest\n"
      ],
      "metadata": {
        "id": "zrIisZFqzwFM"
      },
      "execution_count": 70,
      "outputs": []
    },
    {
      "cell_type": "code",
      "source": [
        "numbers = (10, 20, 40, 80, 60)\n",
        "\n",
        "largest, smallest = find_largest_smallest(numbers)\n",
        "\n",
        "print(\"The largest number is\", largest)\n",
        "print(\"The smallest number is\", smallest)\n"
      ],
      "metadata": {
        "colab": {
          "base_uri": "https://localhost:8080/"
        },
        "id": "4pp9WZnx0Ex2",
        "outputId": "4240e059-5104-41fc-bc7d-8e3287f39853"
      },
      "execution_count": 71,
      "outputs": [
        {
          "output_type": "stream",
          "name": "stdout",
          "text": [
            "The largest number is 80\n",
            "The smallest number is 10\n"
          ]
        }
      ]
    },
    {
      "cell_type": "code",
      "source": [
        "#Alternate\n",
        "\n",
        "# Defining a function to find the largest and smallest elements in a tuple\n",
        "def finding_largest_and_smallest(numbers_tuple):\n",
        "    # Finding the largest element using the max() function\n",
        "    largest = max(numbers_tuple)\n",
        "    # Finding the smallest element using the min() function\n",
        "    smallest = min(numbers_tuple)\n",
        "    return largest, smallest\n",
        "\n",
        "# taking input from the user in the form of a comma separated string\n",
        "input_string = input(\"Enter a tuple of integers separated by spaces: \")\n",
        "\n",
        "# Converting the input string into a tuple of integers\n",
        "input_tuple = tuple(map(int, input_string.split()))\n",
        "\n",
        "# Calling the function to find the largest and smallest elements\n",
        "largest, smallest = finding_largest_and_smallest(input_tuple)\n",
        "\n",
        "# Print the results\n",
        "print(\"Largest element:\", largest)\n",
        "print(\"Smallest element:\", smallest)\n"
      ],
      "metadata": {
        "colab": {
          "base_uri": "https://localhost:8080/"
        },
        "id": "PudaCexUdp_t",
        "outputId": "859023c9-f1ef-43fa-a7ca-ad6b737451ed"
      },
      "execution_count": 50,
      "outputs": [
        {
          "output_type": "stream",
          "name": "stdout",
          "text": [
            "Enter a tuple of integers separated by spaces: 10 20 30 40\n",
            "Largest element: 40\n",
            "Smallest element: 10\n"
          ]
        }
      ]
    },
    {
      "cell_type": "markdown",
      "source": [
        "(12) Write a Python program that counts the frequency of each character in a given string and stores it in a dictionary."
      ],
      "metadata": {
        "id": "O0TVi3gKUTpp"
      }
    },
    {
      "cell_type": "code",
      "source": [
        "# taking input from the user\n",
        "input_string = input(\"Enter a string: \")\n",
        "\n",
        "# Initialize an empty dictionary to store character frequencies\n",
        "char_frequency = {}\n",
        "\n",
        "# Counting the character frequencies\n",
        "for char in input_string:\n",
        "    if char in char_frequency:\n",
        "        char_frequency[char] += 1\n",
        "    else:\n",
        "        char_frequency[char] = 1\n",
        "\n",
        "# printing the character frequency dictionary\n",
        "print(\"Character frequency:\")\n",
        "for char, count in char_frequency.items():\n",
        "    print(f\"'{char}': {count}\")\n"
      ],
      "metadata": {
        "id": "lAtfSfZXUU-h",
        "colab": {
          "base_uri": "https://localhost:8080/"
        },
        "outputId": "681d8739-d0b2-444b-e2dd-c08072191ce0"
      },
      "execution_count": 75,
      "outputs": [
        {
          "output_type": "stream",
          "name": "stdout",
          "text": [
            "Enter a string: Shyam Sundar\n",
            "Character frequency:\n",
            "'S': 2\n",
            "'h': 1\n",
            "'y': 1\n",
            "'a': 2\n",
            "'m': 1\n",
            "' ': 1\n",
            "'u': 1\n",
            "'n': 1\n",
            "'d': 1\n",
            "'r': 1\n"
          ]
        }
      ]
    },
    {
      "cell_type": "code",
      "source": [
        "print(char_frequency)"
      ],
      "metadata": {
        "colab": {
          "base_uri": "https://localhost:8080/"
        },
        "id": "ebBLc6Lj4pwM",
        "outputId": "ada510b5-a641-43c4-ccce-8aa2f741c062"
      },
      "execution_count": 76,
      "outputs": [
        {
          "output_type": "stream",
          "name": "stdout",
          "text": [
            "{'S': 2, 'h': 1, 'y': 1, 'a': 2, 'm': 1, ' ': 1, 'u': 1, 'n': 1, 'd': 1, 'r': 1}\n"
          ]
        }
      ]
    },
    {
      "cell_type": "markdown",
      "metadata": {
        "id": "0v48Vqa7FrQh"
      },
      "source": [
        "(13) Write a Python program to check whether an element exists within a tuple."
      ]
    },
    {
      "cell_type": "code",
      "source": [
        "\n",
        "\n",
        "def check_element_exists(tuple, element):\n",
        "\n",
        "\n",
        "  # Iterating over the tuple.\n",
        "  for item in tuple:\n",
        "    # If the element is found, return True.\n",
        "    if item == element:\n",
        "      return True\n",
        "\n",
        "  # The element was not found.\n",
        "  return False\n",
        "\n",
        "\n",
        "tuple = (1, 2, 3, 4, 5)\n",
        "element = 3\n",
        "\n",
        "# Checking if the element exists in the tuple.\n",
        "if check_element_exists(tuple, element):\n",
        "  print(\"The element exists in the tuple.\")\n",
        "else:\n",
        "  print(\"The element does not exist in the tuple.\")\n"
      ],
      "metadata": {
        "colab": {
          "base_uri": "https://localhost:8080/"
        },
        "id": "3AMqXqgJ0rOZ",
        "outputId": "37725874-f2ff-4abd-ca7b-209f7fc389ff"
      },
      "execution_count": 72,
      "outputs": [
        {
          "output_type": "stream",
          "name": "stdout",
          "text": [
            "The element exists in the tuple.\n"
          ]
        }
      ]
    },
    {
      "cell_type": "code",
      "execution_count": 40,
      "metadata": {
        "id": "7WEmgq-DF2P1",
        "colab": {
          "base_uri": "https://localhost:8080/"
        },
        "outputId": "364cf804-e871-454b-f946-6c71bdde0eeb"
      },
      "outputs": [
        {
          "output_type": "stream",
          "name": "stdout",
          "text": [
            "Enter elements of the tuple separated by spaces: 10 20 30 40\n",
            "Enter the element to search for: 20\n",
            "'20' exists in the tuple.\n"
          ]
        }
      ],
      "source": [
        "#Alternative\n",
        "\n",
        "# taking input from the user to create a tuple\n",
        "input_string = input(\"Enter elements of the tuple separated by spaces: \")\n",
        "\n",
        "# Converting the input string into a tuple of elements\n",
        "input_tuple = tuple(input_string.split())\n",
        "\n",
        "# taking the element to search for from the user input\n",
        "element_to_search = input(\"Enter the element to search for: \")\n",
        "\n",
        "# Checking if the element exists in the tuple or not\n",
        "if element_to_search in input_tuple:\n",
        "    print(f\"'{element_to_search}' exists in the tuple.\")\n",
        "else:\n",
        "    print(f\"'{element_to_search}' does not exist in the tuple.\")\n"
      ]
    },
    {
      "cell_type": "markdown",
      "metadata": {
        "id": "vD5PYLMuGga_"
      },
      "source": [
        "(14) Write a Python program to find maximum and the minimum value in a set."
      ]
    },
    {
      "cell_type": "code",
      "execution_count": 42,
      "metadata": {
        "id": "t0D5kdJUGjjw",
        "colab": {
          "base_uri": "https://localhost:8080/"
        },
        "outputId": "edf9ee9c-4ee0-4d9c-92b4-b72e954756c3"
      },
      "outputs": [
        {
          "output_type": "stream",
          "name": "stdout",
          "text": [
            "Enter elements of the set separated by spaces: 10 20 30 40\n",
            "Maximum value: 40\n",
            "Minimum value: 10\n"
          ]
        }
      ],
      "source": [
        "# taking input from the user to create a set\n",
        "input_string = input(\"Enter elements of the set separated by spaces: \")\n",
        "\n",
        "# Converting the input string into a set of elements\n",
        "input_set = set(input_string.split())\n",
        "\n",
        "# Converting the elements in the set to integers\n",
        "input_set = {int(element) for element in input_set}\n",
        "\n",
        "# Finding the maximum and minimum values in the set\n",
        "# Using the max() function to find the maximum value in the set\n",
        "max_value = max(input_set)\n",
        "# Using the min() function to find the minimum value in the set\n",
        "min_value = min(input_set)\n",
        "\n",
        "# Print the maximum and minimum values of set\n",
        "print(\"Maximum value:\", max_value)\n",
        "print(\"Minimum value:\", min_value)\n"
      ]
    },
    {
      "cell_type": "markdown",
      "metadata": {
        "id": "uHkd-y5VhVWC"
      },
      "source": [
        "(15) Write a Python program to randomly divide the students in this class into six groups for term projects, each group should have at least 4 students but no more than 6 students (including 6). Here is the students list:\n",
        "student_list_fall_2023=['sb1826' ,\n",
        " 'lb0582' ,\n",
        " 'ab1820' ,\n",
        " 'sb1883' ,\n",
        " 'mb1296' ,\n",
        " 'sc1622' ,\n",
        " 'tc0469' ,\n",
        " 'ac1770' ,\n",
        " 'mc1453' ,\n",
        " 'ad1187' ,\n",
        " 'sd0926' ,\n",
        " 'sd1268' ,\n",
        " 'ag1609' ,\n",
        " 'sg1638' ,\n",
        " 'mg1299' ,\n",
        " 'vkk0022' ,\n",
        " 'bk0413' ,\n",
        " 'gk0257' ,\n",
        " 'am2807' ,\n",
        " 'gm0558' ,\n",
        " 'pm0658' ,\n",
        " 'am2346' ,\n",
        " 'rm1090' ,\n",
        " 'sm2364' ,\n",
        " 'sm2747' ,\n",
        " 'sm2343' ,\n",
        " 'vm0597' ,\n",
        " 'htn0086' ,\n",
        " 'sp2075' ,\n",
        " 'gp0306' ,\n",
        " 'lp0502' ,\n",
        " 'sr1508' ,\n",
        " 'vr0331' ,\n",
        " 'yr0180' ,\n",
        " 'as2819' ,\n",
        " 'ss2981' ,\n",
        " 'ns0756' ,\n",
        " 'mt0825' ,\n",
        " 'dt0463' ,\n",
        " 'su0137' ,\n",
        " 'dv0310'\n",
        "]"
      ]
    },
    {
      "cell_type": "code",
      "source": [
        "len(['sb1826', 'lb0582', 'ab1820', 'sb1883', 'mb1296', 'sc1622', 'tc0469', 'ac1770', 'mc1453', 'ad1187',\n",
        "                           'sd0926', 'sd1268', 'ag1609', 'sg1638', 'mg1299', 'vkk0022', 'bk0413', 'gk0257', 'am2807', 'gm0558',\n",
        "                           'pm0658', 'am2346', 'rm1090', 'sm2364', 'sm2747', 'sm2343', 'vm0597', 'htn0086', 'sp2075', 'gp0306',\n",
        "                           'lp0502', 'sr1508', 'vr0331', 'yr0180', 'as2819', 'ss2981', 'ns0756', 'mt0825', 'dt0463', 'su0137', 'dv0310'])"
      ],
      "metadata": {
        "colab": {
          "base_uri": "https://localhost:8080/"
        },
        "id": "kDHOUeBhkZiJ",
        "outputId": "6623a278-b402-4198-e217-c3e72acb4346"
      },
      "execution_count": 44,
      "outputs": [
        {
          "output_type": "execute_result",
          "data": {
            "text/plain": [
              "41"
            ]
          },
          "metadata": {},
          "execution_count": 44
        }
      ]
    },
    {
      "cell_type": "code",
      "source": [
        "\n",
        "#importing module\n",
        "import random\n",
        "\n",
        "# List of students\n",
        "student_list_fall_2023 = ['sb1826', 'lb0582', 'ab1820', 'sb1883', 'mb1296', 'sc1622', 'tc0469', 'ac1770', 'mc1453', 'ad1187',\n",
        "                           'sd0926', 'sd1268', 'ag1609', 'sg1638', 'mg1299', 'vkk0022', 'bk0413', 'gk0257', 'am2807', 'gm0558',\n",
        "                           'pm0658', 'am2346', 'rm1090', 'sm2364', 'sm2747', 'sm2343', 'vm0597', 'htn0086', 'sp2075', 'gp0306',\n",
        "                           'lp0502', 'sr1508', 'vr0331', 'yr0180', 'as2819', 'ss2981', 'ns0756', 'mt0825', 'dt0463', 'su0137', 'dv0310']\n",
        "\n",
        "# using Shuffle function to shuffle the student list randomly using random module\n",
        "random.shuffle(student_list_fall_2023)\n",
        "\n",
        "# creating variables to store group data\n",
        "group_size = 4\n",
        "num_groups = len(student_list_fall_2023) // group_size\n",
        "groups = [[] for _ in range(num_groups)]\n",
        "\n",
        "# Dividing students into groups\n",
        "for student in student_list_fall_2023:\n",
        "    added = False\n",
        "    while not added:\n",
        "        for group in groups:\n",
        "            if len(group) < 6:\n",
        "                group.append(student)\n",
        "                added = True\n",
        "                break\n",
        "\n",
        "# Printing the groups that are not empty\n",
        "for i, group in enumerate(groups, start=1):\n",
        "    if group:\n",
        "        # Checking if the group is not empty\n",
        "        print(f\"Group {i}:\", group)\n"
      ],
      "metadata": {
        "colab": {
          "base_uri": "https://localhost:8080/"
        },
        "id": "ACnQzHMWk37G",
        "outputId": "48ff6508-0159-47fa-c0bc-c4fc934813eb"
      },
      "execution_count": 46,
      "outputs": [
        {
          "output_type": "stream",
          "name": "stdout",
          "text": [
            "Group 1: ['mt0825', 'gp0306', 'ab1820', 'bk0413', 'dv0310', 'vm0597']\n",
            "Group 2: ['su0137', 'sd1268', 'sg1638', 'rm1090', 'sm2747', 'dt0463']\n",
            "Group 3: ['ag1609', 'mb1296', 'sb1883', 'vkk0022', 'gm0558', 'ns0756']\n",
            "Group 4: ['ad1187', 'htn0086', 'mc1453', 'sr1508', 'sc1622', 'ac1770']\n",
            "Group 5: ['am2346', 'lb0582', 'sm2364', 'tc0469', 'sb1826', 'pm0658']\n",
            "Group 6: ['mg1299', 'yr0180', 'ss2981', 'lp0502', 'sm2343', 'sd0926']\n",
            "Group 7: ['vr0331', 'gk0257', 'am2807', 'sp2075', 'as2819']\n"
          ]
        }
      ]
    },
    {
      "cell_type": "markdown",
      "metadata": {
        "id": "fmZ9vX20Qs3d"
      },
      "source": [
        "(16) Write a Python program to find the duplicate elements in a given array of integers. Return -1 If there are no such elements."
      ]
    },
    {
      "cell_type": "code",
      "source": [
        "def finding_first_duplicates(numbers):\n",
        "    seen_numbers = set()  # Creating an empty set to store seen numbers\n",
        "    no_duplicate = -1  # Initialize a variable to store the result\n",
        "\n",
        "    for num in numbers:\n",
        "        if num in seen_numbers:\n",
        "            return num  # Return the first duplicate found\n",
        "        else:\n",
        "            seen_numbers.add(num)\n",
        "\n",
        "    return no_duplicate  # Return -1 if no duplicates are found\n",
        "\n",
        "# Testing the function with different input arrays\n",
        "print(finding_first_duplicates([10,20,30,40,40,50,60]))\n",
        "print(finding_first_duplicates([10, 20, 30, 40,50]))\n",
        "print(finding_first_duplicates([10, 10, 20, 30, 30, 20, 20,20]))\n"
      ],
      "metadata": {
        "colab": {
          "base_uri": "https://localhost:8080/"
        },
        "id": "0-uDFrdgwFnL",
        "outputId": "a45e0229-18cd-4f2f-8b0d-446ea239ad21"
      },
      "execution_count": 63,
      "outputs": [
        {
          "output_type": "stream",
          "name": "stdout",
          "text": [
            "40\n",
            "-1\n",
            "10\n"
          ]
        }
      ]
    },
    {
      "cell_type": "markdown",
      "metadata": {
        "id": "hvq4APMhQs3d"
      },
      "source": [
        "(17) Write a Python program to select all the Sundays of a specified year."
      ]
    },
    {
      "cell_type": "code",
      "execution_count": 52,
      "metadata": {
        "id": "ZnoxhSglQs3d",
        "colab": {
          "base_uri": "https://localhost:8080/"
        },
        "outputId": "57fc7cb6-3b7b-419b-b5c5-22153b018e0f"
      },
      "outputs": [
        {
          "output_type": "stream",
          "name": "stdout",
          "text": [
            "Enter a year: 2022\n",
            "Sundays in the specified year:\n",
            "2022-01-02\n",
            "2022-01-09\n",
            "2022-01-16\n",
            "2022-01-23\n",
            "2022-01-30\n",
            "2022-02-06\n",
            "2022-02-13\n",
            "2022-02-20\n",
            "2022-02-27\n",
            "2022-03-06\n",
            "2022-03-13\n",
            "2022-03-20\n",
            "2022-03-27\n",
            "2022-04-03\n",
            "2022-04-10\n",
            "2022-04-17\n",
            "2022-04-24\n",
            "2022-05-01\n",
            "2022-05-08\n",
            "2022-05-15\n",
            "2022-05-22\n",
            "2022-05-29\n",
            "2022-06-05\n",
            "2022-06-12\n",
            "2022-06-19\n",
            "2022-06-26\n",
            "2022-07-03\n",
            "2022-07-10\n",
            "2022-07-17\n",
            "2022-07-24\n",
            "2022-07-31\n",
            "2022-08-07\n",
            "2022-08-14\n",
            "2022-08-21\n",
            "2022-08-28\n",
            "2022-09-04\n",
            "2022-09-11\n",
            "2022-09-18\n",
            "2022-09-25\n",
            "2022-10-02\n",
            "2022-10-09\n",
            "2022-10-16\n",
            "2022-10-23\n",
            "2022-10-30\n",
            "2022-11-06\n",
            "2022-11-13\n",
            "2022-11-20\n",
            "2022-11-27\n",
            "2022-12-04\n",
            "2022-12-11\n",
            "2022-12-18\n",
            "2022-12-25\n"
          ]
        }
      ],
      "source": [
        "#importing module\n",
        "import datetime\n",
        "\n",
        "def sundays_year(year):\n",
        "    sundays = []\n",
        "\n",
        "    # Looping through all months in the given year\n",
        "    for month in range(1, 13):\n",
        "        # Looping through all days in the month\n",
        "        for day in range(1, 32):\n",
        "            try:\n",
        "                # Creating a date object for the current year, month, and day\n",
        "                date_object = datetime.date(year,month,day)\n",
        "\n",
        "                # Check if the day is a Sunday (weekday() returns 6 for Sunday)\n",
        "                if date_object.weekday() == 6:\n",
        "                    sundays.append(date_object)\n",
        "            except ValueError:\n",
        "                # Handling cases where the day is invalid for the month (e.g., Feb 30)\n",
        "                pass\n",
        "\n",
        "    return sundays\n",
        "\n",
        "# taking input from the user for the year\n",
        "year = int(input(\"Enter a year: \"))\n",
        "\n",
        "# Calling the function to get all the Sundays of the specified year\n",
        "sundays = sundays_year(year)\n",
        "\n",
        "# Printing the list of Sundays\n",
        "if sundays:\n",
        "    print(\"Sundays in the specified year:\")\n",
        "    for sunday in sundays:\n",
        "        print(sunday)\n",
        "else:\n",
        "    print(\"No Sundays in the specified year.\")\n",
        "\n"
      ]
    },
    {
      "cell_type": "markdown",
      "source": [
        "(18) Build a program that calculates the factorial of a given positive integer. The factorial of a non-negative integer n is the product of all positive integers less than or equal to n."
      ],
      "metadata": {
        "id": "55FWoSJPVVM6"
      }
    },
    {
      "cell_type": "code",
      "source": [
        "#creating  Function to calculate the factorial\n",
        "def calculate_factorial(num):\n",
        "    factorial = 1\n",
        "\n",
        "    # Loop from 1 to num (inclusive)\n",
        "    for i in range(1, num + 1):\n",
        "        factorial *= i  # Multiply current value by factorial\n",
        "\n",
        "    return factorial\n",
        "\n",
        "# take input from the user\n",
        "input_num = int(input(\"Enter a positive integer: \"))\n",
        "\n",
        "# Checking if the input is valid or not\n",
        "if input_num < 0:\n",
        "    print(\"Factorial is not defined for negative numbers.\")\n",
        "else:\n",
        "    # Calling the function to calculate factorial\n",
        "    result = calculate_factorial(input_num)\n",
        "\n",
        "    # Printing the output\n",
        "    print(f\"The factorial of {input_num} is {result}.\")\n"
      ],
      "metadata": {
        "id": "hwtr1wZmVX5A",
        "colab": {
          "base_uri": "https://localhost:8080/"
        },
        "outputId": "45ff1bbd-2c5d-4104-afb2-0a70ebb59048"
      },
      "execution_count": 53,
      "outputs": [
        {
          "output_type": "stream",
          "name": "stdout",
          "text": [
            "Enter a positive integer: -1\n",
            "Factorial is not defined for negative numbers.\n"
          ]
        }
      ]
    },
    {
      "cell_type": "code",
      "source": [
        "#creating  Function to calculate the factorial\n",
        "def calculate_factorial(num):\n",
        "    factorial = 1\n",
        "\n",
        "    # Loop from 1 to num (inclusive)\n",
        "    for i in range(1, num + 1):\n",
        "        factorial *= i  # Multiply current value by factorial\n",
        "\n",
        "    return factorial\n",
        "\n",
        "# take input from the user\n",
        "input_num = int(input(\"Enter a positive integer: \"))\n",
        "\n",
        "# Checking if the input is valid or not\n",
        "if input_num < 0:\n",
        "    print(\"Factorial is not defined for negative numbers.\")\n",
        "else:\n",
        "    # Calling the function to calculate factorial\n",
        "    result = calculate_factorial(input_num)\n",
        "\n",
        "    # Printing the output\n",
        "    print(f\"The factorial of {input_num} is {result}.\")"
      ],
      "metadata": {
        "colab": {
          "base_uri": "https://localhost:8080/"
        },
        "id": "vIpipmPzqWJy",
        "outputId": "1c0b31dc-2227-42f2-9bb1-45138818160f"
      },
      "execution_count": 54,
      "outputs": [
        {
          "output_type": "stream",
          "name": "stdout",
          "text": [
            "Enter a positive integer: 10\n",
            "The factorial of 10 is 3628800.\n"
          ]
        }
      ]
    },
    {
      "cell_type": "markdown",
      "source": [
        "(19) Write a program that takes a positive integer n as input and prints the count of even numbers from 1 to n. Use a loop to iterate through the numbers and utilize the break statement to optimize the loop."
      ],
      "metadata": {
        "id": "Q9ecagcaVazW"
      }
    },
    {
      "cell_type": "code",
      "source": [
        "# taking input from the user\n",
        "input_number = int(input(\"Enter a positive integer: \"))\n",
        "\n",
        "# Initialize a variable to store the count of even numbers\n",
        "even_count = 0\n",
        "\n",
        "# Iterate through numbers from 1 to n\n",
        "for number in range(1, input_number + 1):\n",
        "    # Checking if the current number is even or not\n",
        "    if number % 2 == 0:\n",
        "        # Increment the count of even numbers\n",
        "        even_count += 1\n",
        "      # If the current number is greater than n\n",
        "    elif num > input_number:\n",
        "        break  # Exit the loop since we don't need to check further\n",
        "\n",
        "# Printing the count of even numbers\n",
        "print(f\"The count of even numbers from 1 to {input_number} is {even_count}.\")"
      ],
      "metadata": {
        "colab": {
          "base_uri": "https://localhost:8080/"
        },
        "id": "fnoeG7say-gY",
        "outputId": "a4d3046e-58c8-42f7-df29-d629091d9633"
      },
      "execution_count": 68,
      "outputs": [
        {
          "output_type": "stream",
          "name": "stdout",
          "text": [
            "Enter a positive integer: 10\n",
            "The count of even numbers from 1 to 10 is 5.\n"
          ]
        }
      ]
    },
    {
      "cell_type": "markdown",
      "source": [
        "(20) Write a Python function called count_vowels that takes a string as input and returns the count of vowels (both lowercase and uppercase) present in the string. Consider the vowels to be 'a', 'e', 'i', 'o', and 'u'. Ignore spaces and other non-alphabetic characters."
      ],
      "metadata": {
        "id": "cboAr5pEWUf5"
      }
    },
    {
      "cell_type": "code",
      "source": [
        "\n",
        "#creating Function\n",
        "def count_vowels(string):\n",
        "  \"\"\"\n",
        "  Defining a string that contains all the vowels.\n",
        "  \"\"\"\n",
        "  vowels = \"aeiouAEIOU\"\n",
        "\n",
        "  \"\"\"\n",
        "  Initialize a variable to count the number of vowels.\n",
        "  \"\"\"\n",
        "  count = 0\n",
        "\n",
        "  \"\"\"\n",
        "  Iterating over each character in the string.\n",
        "  \"\"\"\n",
        "  for char in string:\n",
        "    \"\"\"\n",
        "    If the character is a vowel, increment the count.\n",
        "    \"\"\"\n",
        "    if char in vowels:\n",
        "      count += 1\n",
        "\n",
        "  \"\"\"\n",
        "  Return the number of vowels.\n",
        "  \"\"\"\n",
        "  return count\n"
      ],
      "metadata": {
        "id": "fPcsZlrNsFNU"
      },
      "execution_count": 65,
      "outputs": []
    },
    {
      "cell_type": "code",
      "source": [
        "string = \"Shyam!\"\n",
        "\n",
        "number_of_vowels = count_vowels(string)\n",
        "\n",
        "print(number_of_vowels)\n"
      ],
      "metadata": {
        "colab": {
          "base_uri": "https://localhost:8080/"
        },
        "id": "V6-8Aw_wy0EC",
        "outputId": "4ca7186c-6942-44b3-9393-e146f3c2a679"
      },
      "execution_count": 67,
      "outputs": [
        {
          "output_type": "stream",
          "name": "stdout",
          "text": [
            "1\n"
          ]
        }
      ]
    },
    {
      "cell_type": "code",
      "source": [
        "#Thank you !"
      ],
      "metadata": {
        "id": "vnCQhwgPy1kI"
      },
      "execution_count": 74,
      "outputs": []
    },
    {
      "cell_type": "code",
      "source": [],
      "metadata": {
        "id": "1u_yGjc82FEo"
      },
      "execution_count": null,
      "outputs": []
    }
  ],
  "metadata": {
    "colab": {
      "provenance": [],
      "include_colab_link": true
    },
    "kernelspec": {
      "display_name": "Python 3 (ipykernel)",
      "language": "python",
      "name": "python3"
    },
    "language_info": {
      "codemirror_mode": {
        "name": "ipython",
        "version": 3
      },
      "file_extension": ".py",
      "mimetype": "text/x-python",
      "name": "python",
      "nbconvert_exporter": "python",
      "pygments_lexer": "ipython3",
      "version": "3.9.12"
    }
  },
  "nbformat": 4,
  "nbformat_minor": 0
}